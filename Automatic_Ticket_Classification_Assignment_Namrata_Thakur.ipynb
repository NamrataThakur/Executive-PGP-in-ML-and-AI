{
 "cells": [
  {
   "cell_type": "markdown",
   "metadata": {
    "id": "rhR-ZUkwJrFn"
   },
   "source": [
    "## Problem Statement \n",
    "\n",
    "You need to build a model that is able to classify customer complaints based on the products/services. By doing so, you can segregate these tickets into their relevant categories and, therefore, help in the quick resolution of the issue.\n",
    "\n",
    "You will be doing topic modelling on the <b>.json</b> data provided by the company. Since this data is not labelled, you need to apply NMF to analyse patterns and classify tickets into the following five clusters based on their products/services:\n",
    "\n",
    "* Credit card / Prepaid card\n",
    "\n",
    "* Bank account services\n",
    "\n",
    "* Theft/Dispute reporting\n",
    "\n",
    "* Mortgages/loans\n",
    "\n",
    "* Others \n",
    "\n",
    "\n",
    "With the help of topic modelling, you will be able to map each ticket onto its respective department/category. You can then use this data to train any supervised model such as logistic regression, decision tree or random forest. Using this trained model, you can classify any new customer complaint support ticket into its relevant department."
   ]
  },
  {
   "cell_type": "markdown",
   "metadata": {
    "id": "mcgXVNyaLUFS"
   },
   "source": [
    "## Pipelines that needs to be performed:\n",
    "\n",
    "You need to perform the following eight major tasks to complete the assignment:\n",
    "\n",
    "1.  Data loading\n",
    "\n",
    "2. Text preprocessing\n",
    "\n",
    "3. Exploratory data analysis (EDA)\n",
    "\n",
    "4. Feature extraction\n",
    "\n",
    "5. Topic modelling \n",
    "\n",
    "6. Model building using supervised learning\n",
    "\n",
    "7. Model training and evaluation\n",
    "\n",
    "8. Model inference"
   ]
  },
  {
   "cell_type": "markdown",
   "metadata": {
    "id": "JuLFIymAL58u"
   },
   "source": [
    "## Importing the necessary libraries"
   ]
  },
  {
   "cell_type": "code",
   "execution_count": 1,
   "metadata": {
    "id": "O-Q9pqrcJrFr"
   },
   "outputs": [
    {
     "name": "stderr",
     "output_type": "stream",
     "text": [
      "[nltk_data] Downloading package wordnet to C:\\Users\\Namrata\n",
      "[nltk_data]     Thakur\\AppData\\Roaming\\nltk_data...\n",
      "[nltk_data]   Package wordnet is already up-to-date!\n"
     ]
    },
    {
     "data": {
      "text/plain": [
       "True"
      ]
     },
     "execution_count": 1,
     "metadata": {},
     "output_type": "execute_result"
    }
   ],
   "source": [
    "import json \n",
    "import numpy as np\n",
    "import pandas as pd\n",
    "import re, nltk, spacy, string\n",
    "import en_core_web_sm\n",
    "nlp = en_core_web_sm.load()\n",
    "import seaborn as sns\n",
    "import matplotlib.pyplot as plt\n",
    "%matplotlib inline\n",
    "\n",
    "from plotly.offline import plot\n",
    "import plotly.graph_objects as go\n",
    "import plotly.express as px\n",
    "\n",
    "from sklearn.feature_extraction.text import CountVectorizer, TfidfVectorizer, TfidfTransformer\n",
    "from pprint import pprint\n",
    "import nltk\n",
    "nltk.download('wordnet')"
   ]
  },
  {
   "cell_type": "markdown",
   "metadata": {
    "id": "KtRLCsNVJrFt"
   },
   "source": [
    "## Loading the data\n",
    "\n",
    "The data is in JSON format and we need to convert it to a dataframe."
   ]
  },
  {
   "cell_type": "code",
   "execution_count": 2,
   "metadata": {
    "id": "puVzIf_iJrFt"
   },
   "outputs": [],
   "source": [
    "# Opening JSON file \n",
    "f = open('complaints.json', 'r')\n",
    "  \n",
    "# returns JSON object as  \n",
    "# a dictionary \n",
    "data = json.load(f)\n",
    "df=pd.json_normalize(data)"
   ]
  },
  {
   "cell_type": "markdown",
   "metadata": {
    "id": "_xYpH-sAJrFu"
   },
   "source": [
    "## Data preparation"
   ]
  },
  {
   "cell_type": "code",
   "execution_count": 3,
   "metadata": {
    "id": "Lf8ufHH5JrFu"
   },
   "outputs": [
    {
     "name": "stdout",
     "output_type": "stream",
     "text": [
      "<class 'pandas.core.frame.DataFrame'>\n",
      "RangeIndex: 78313 entries, 0 to 78312\n",
      "Data columns (total 22 columns):\n",
      " #   Column                             Non-Null Count  Dtype  \n",
      "---  ------                             --------------  -----  \n",
      " 0   _index                             78313 non-null  object \n",
      " 1   _type                              78313 non-null  object \n",
      " 2   _id                                78313 non-null  object \n",
      " 3   _score                             78313 non-null  float64\n",
      " 4   _source.tags                       10900 non-null  object \n",
      " 5   _source.zip_code                   71556 non-null  object \n",
      " 6   _source.complaint_id               78313 non-null  object \n",
      " 7   _source.issue                      78313 non-null  object \n",
      " 8   _source.date_received              78313 non-null  object \n",
      " 9   _source.state                      76322 non-null  object \n",
      " 10  _source.consumer_disputed          78313 non-null  object \n",
      " 11  _source.product                    78313 non-null  object \n",
      " 12  _source.company_response           78313 non-null  object \n",
      " 13  _source.company                    78313 non-null  object \n",
      " 14  _source.submitted_via              78313 non-null  object \n",
      " 15  _source.date_sent_to_company       78313 non-null  object \n",
      " 16  _source.company_public_response    4 non-null      object \n",
      " 17  _source.sub_product                67742 non-null  object \n",
      " 18  _source.timely                     78313 non-null  object \n",
      " 19  _source.complaint_what_happened    78313 non-null  object \n",
      " 20  _source.sub_issue                  32016 non-null  object \n",
      " 21  _source.consumer_consent_provided  77305 non-null  object \n",
      "dtypes: float64(1), object(21)\n",
      "memory usage: 13.1+ MB\n",
      "None\n"
     ]
    },
    {
     "data": {
      "text/html": [
       "<div>\n",
       "<style scoped>\n",
       "    .dataframe tbody tr th:only-of-type {\n",
       "        vertical-align: middle;\n",
       "    }\n",
       "\n",
       "    .dataframe tbody tr th {\n",
       "        vertical-align: top;\n",
       "    }\n",
       "\n",
       "    .dataframe thead th {\n",
       "        text-align: right;\n",
       "    }\n",
       "</style>\n",
       "<table border=\"1\" class=\"dataframe\">\n",
       "  <thead>\n",
       "    <tr style=\"text-align: right;\">\n",
       "      <th></th>\n",
       "      <th>_index</th>\n",
       "      <th>_type</th>\n",
       "      <th>_id</th>\n",
       "      <th>_score</th>\n",
       "      <th>_source.tags</th>\n",
       "      <th>_source.zip_code</th>\n",
       "      <th>_source.complaint_id</th>\n",
       "      <th>_source.issue</th>\n",
       "      <th>_source.date_received</th>\n",
       "      <th>_source.state</th>\n",
       "      <th>...</th>\n",
       "      <th>_source.company_response</th>\n",
       "      <th>_source.company</th>\n",
       "      <th>_source.submitted_via</th>\n",
       "      <th>_source.date_sent_to_company</th>\n",
       "      <th>_source.company_public_response</th>\n",
       "      <th>_source.sub_product</th>\n",
       "      <th>_source.timely</th>\n",
       "      <th>_source.complaint_what_happened</th>\n",
       "      <th>_source.sub_issue</th>\n",
       "      <th>_source.consumer_consent_provided</th>\n",
       "    </tr>\n",
       "  </thead>\n",
       "  <tbody>\n",
       "    <tr>\n",
       "      <th>0</th>\n",
       "      <td>complaint-public-v2</td>\n",
       "      <td>complaint</td>\n",
       "      <td>3211475</td>\n",
       "      <td>0.0</td>\n",
       "      <td>None</td>\n",
       "      <td>90301</td>\n",
       "      <td>3211475</td>\n",
       "      <td>Attempts to collect debt not owed</td>\n",
       "      <td>2019-04-13T12:00:00-05:00</td>\n",
       "      <td>CA</td>\n",
       "      <td>...</td>\n",
       "      <td>Closed with explanation</td>\n",
       "      <td>JPMORGAN CHASE &amp; CO.</td>\n",
       "      <td>Web</td>\n",
       "      <td>2019-04-13T12:00:00-05:00</td>\n",
       "      <td>None</td>\n",
       "      <td>Credit card debt</td>\n",
       "      <td>Yes</td>\n",
       "      <td></td>\n",
       "      <td>Debt is not yours</td>\n",
       "      <td>Consent not provided</td>\n",
       "    </tr>\n",
       "    <tr>\n",
       "      <th>1</th>\n",
       "      <td>complaint-public-v2</td>\n",
       "      <td>complaint</td>\n",
       "      <td>3229299</td>\n",
       "      <td>0.0</td>\n",
       "      <td>Servicemember</td>\n",
       "      <td>319XX</td>\n",
       "      <td>3229299</td>\n",
       "      <td>Written notification about debt</td>\n",
       "      <td>2019-05-01T12:00:00-05:00</td>\n",
       "      <td>GA</td>\n",
       "      <td>...</td>\n",
       "      <td>Closed with explanation</td>\n",
       "      <td>JPMORGAN CHASE &amp; CO.</td>\n",
       "      <td>Web</td>\n",
       "      <td>2019-05-01T12:00:00-05:00</td>\n",
       "      <td>None</td>\n",
       "      <td>Credit card debt</td>\n",
       "      <td>Yes</td>\n",
       "      <td>Good morning my name is XXXX XXXX and I apprec...</td>\n",
       "      <td>Didn't receive enough information to verify debt</td>\n",
       "      <td>Consent provided</td>\n",
       "    </tr>\n",
       "    <tr>\n",
       "      <th>2</th>\n",
       "      <td>complaint-public-v2</td>\n",
       "      <td>complaint</td>\n",
       "      <td>3199379</td>\n",
       "      <td>0.0</td>\n",
       "      <td>None</td>\n",
       "      <td>77069</td>\n",
       "      <td>3199379</td>\n",
       "      <td>Other features, terms, or problems</td>\n",
       "      <td>2019-04-02T12:00:00-05:00</td>\n",
       "      <td>TX</td>\n",
       "      <td>...</td>\n",
       "      <td>Closed with explanation</td>\n",
       "      <td>JPMORGAN CHASE &amp; CO.</td>\n",
       "      <td>Web</td>\n",
       "      <td>2019-04-02T12:00:00-05:00</td>\n",
       "      <td>None</td>\n",
       "      <td>General-purpose credit card or charge card</td>\n",
       "      <td>Yes</td>\n",
       "      <td>I upgraded my XXXX XXXX card in XX/XX/2018 and...</td>\n",
       "      <td>Problem with rewards from credit card</td>\n",
       "      <td>Consent provided</td>\n",
       "    </tr>\n",
       "    <tr>\n",
       "      <th>3</th>\n",
       "      <td>complaint-public-v2</td>\n",
       "      <td>complaint</td>\n",
       "      <td>2673060</td>\n",
       "      <td>0.0</td>\n",
       "      <td>None</td>\n",
       "      <td>48066</td>\n",
       "      <td>2673060</td>\n",
       "      <td>Trouble during payment process</td>\n",
       "      <td>2017-09-13T12:00:00-05:00</td>\n",
       "      <td>MI</td>\n",
       "      <td>...</td>\n",
       "      <td>Closed with explanation</td>\n",
       "      <td>JPMORGAN CHASE &amp; CO.</td>\n",
       "      <td>Web</td>\n",
       "      <td>2017-09-14T12:00:00-05:00</td>\n",
       "      <td>None</td>\n",
       "      <td>Conventional home mortgage</td>\n",
       "      <td>Yes</td>\n",
       "      <td></td>\n",
       "      <td>None</td>\n",
       "      <td>Consent not provided</td>\n",
       "    </tr>\n",
       "    <tr>\n",
       "      <th>4</th>\n",
       "      <td>complaint-public-v2</td>\n",
       "      <td>complaint</td>\n",
       "      <td>3203545</td>\n",
       "      <td>0.0</td>\n",
       "      <td>None</td>\n",
       "      <td>10473</td>\n",
       "      <td>3203545</td>\n",
       "      <td>Fees or interest</td>\n",
       "      <td>2019-04-05T12:00:00-05:00</td>\n",
       "      <td>NY</td>\n",
       "      <td>...</td>\n",
       "      <td>Closed with explanation</td>\n",
       "      <td>JPMORGAN CHASE &amp; CO.</td>\n",
       "      <td>Referral</td>\n",
       "      <td>2019-04-05T12:00:00-05:00</td>\n",
       "      <td>None</td>\n",
       "      <td>General-purpose credit card or charge card</td>\n",
       "      <td>Yes</td>\n",
       "      <td></td>\n",
       "      <td>Charged too much interest</td>\n",
       "      <td>N/A</td>\n",
       "    </tr>\n",
       "  </tbody>\n",
       "</table>\n",
       "<p>5 rows × 22 columns</p>\n",
       "</div>"
      ],
      "text/plain": [
       "                _index      _type      _id  _score   _source.tags  \\\n",
       "0  complaint-public-v2  complaint  3211475     0.0           None   \n",
       "1  complaint-public-v2  complaint  3229299     0.0  Servicemember   \n",
       "2  complaint-public-v2  complaint  3199379     0.0           None   \n",
       "3  complaint-public-v2  complaint  2673060     0.0           None   \n",
       "4  complaint-public-v2  complaint  3203545     0.0           None   \n",
       "\n",
       "  _source.zip_code _source.complaint_id                       _source.issue  \\\n",
       "0            90301              3211475   Attempts to collect debt not owed   \n",
       "1            319XX              3229299     Written notification about debt   \n",
       "2            77069              3199379  Other features, terms, or problems   \n",
       "3            48066              2673060      Trouble during payment process   \n",
       "4            10473              3203545                    Fees or interest   \n",
       "\n",
       "       _source.date_received _source.state  ... _source.company_response  \\\n",
       "0  2019-04-13T12:00:00-05:00            CA  ...  Closed with explanation   \n",
       "1  2019-05-01T12:00:00-05:00            GA  ...  Closed with explanation   \n",
       "2  2019-04-02T12:00:00-05:00            TX  ...  Closed with explanation   \n",
       "3  2017-09-13T12:00:00-05:00            MI  ...  Closed with explanation   \n",
       "4  2019-04-05T12:00:00-05:00            NY  ...  Closed with explanation   \n",
       "\n",
       "        _source.company _source.submitted_via _source.date_sent_to_company  \\\n",
       "0  JPMORGAN CHASE & CO.                   Web    2019-04-13T12:00:00-05:00   \n",
       "1  JPMORGAN CHASE & CO.                   Web    2019-05-01T12:00:00-05:00   \n",
       "2  JPMORGAN CHASE & CO.                   Web    2019-04-02T12:00:00-05:00   \n",
       "3  JPMORGAN CHASE & CO.                   Web    2017-09-14T12:00:00-05:00   \n",
       "4  JPMORGAN CHASE & CO.              Referral    2019-04-05T12:00:00-05:00   \n",
       "\n",
       "  _source.company_public_response                         _source.sub_product  \\\n",
       "0                            None                            Credit card debt   \n",
       "1                            None                            Credit card debt   \n",
       "2                            None  General-purpose credit card or charge card   \n",
       "3                            None                  Conventional home mortgage   \n",
       "4                            None  General-purpose credit card or charge card   \n",
       "\n",
       "  _source.timely                    _source.complaint_what_happened  \\\n",
       "0            Yes                                                      \n",
       "1            Yes  Good morning my name is XXXX XXXX and I apprec...   \n",
       "2            Yes  I upgraded my XXXX XXXX card in XX/XX/2018 and...   \n",
       "3            Yes                                                      \n",
       "4            Yes                                                      \n",
       "\n",
       "                                  _source.sub_issue  \\\n",
       "0                                 Debt is not yours   \n",
       "1  Didn't receive enough information to verify debt   \n",
       "2             Problem with rewards from credit card   \n",
       "3                                              None   \n",
       "4                         Charged too much interest   \n",
       "\n",
       "  _source.consumer_consent_provided  \n",
       "0              Consent not provided  \n",
       "1                  Consent provided  \n",
       "2                  Consent provided  \n",
       "3              Consent not provided  \n",
       "4                               N/A  \n",
       "\n",
       "[5 rows x 22 columns]"
      ]
     },
     "execution_count": 3,
     "metadata": {},
     "output_type": "execute_result"
    },
    {
     "data": {
      "image/png": "[encoded data removed]",
      "text/plain": [
       "<Figure size 432x288 with 1 Axes>"
      ]
     },
     "metadata": {
      "needs_background": "light"
     },
     "output_type": "display_data"
    }
   ],
   "source": [
    "# Inspect the dataframe to understand the given data.\n",
    "print(df.info())\n",
    "missing_values = df.isna().sum()/len(df.index)*100\n",
    "missing_values_percentage = missing_values[missing_values!=0]\n",
    "ax = sns.barplot(x = missing_values_percentage.index, y = missing_values_percentage.values)\n",
    "ax.tick_params(axis='x', rotation=90)\n",
    "df.head()\n"
   ]
  },
  {
   "cell_type": "code",
   "execution_count": 4,
   "metadata": {
    "id": "Dwcty-wmJrFw"
   },
   "outputs": [
    {
     "name": "stdout",
     "output_type": "stream",
     "text": [
      "Index(['_index', '_type', '_id', '_score', '_source.tags', '_source.zip_code',\n",
      "       '_source.complaint_id', '_source.issue', '_source.date_received',\n",
      "       '_source.state', '_source.consumer_disputed', '_source.product',\n",
      "       '_source.company_response', '_source.company', '_source.submitted_via',\n",
      "       '_source.date_sent_to_company', '_source.company_public_response',\n",
      "       '_source.sub_product', '_source.timely',\n",
      "       '_source.complaint_what_happened', '_source.sub_issue',\n",
      "       '_source.consumer_consent_provided'],\n",
      "      dtype='object')\n"
     ]
    }
   ],
   "source": [
    "#print the column names\n",
    "print(df.columns)"
   ]
  },
  {
   "cell_type": "code",
   "execution_count": 5,
   "metadata": {
    "id": "FYCtKXD1JrFw"
   },
   "outputs": [
    {
     "data": {
      "text/html": [
       "<div>\n",
       "<style scoped>\n",
       "    .dataframe tbody tr th:only-of-type {\n",
       "        vertical-align: middle;\n",
       "    }\n",
       "\n",
       "    .dataframe tbody tr th {\n",
       "        vertical-align: top;\n",
       "    }\n",
       "\n",
       "    .dataframe thead th {\n",
       "        text-align: right;\n",
       "    }\n",
       "</style>\n",
       "<table border=\"1\" class=\"dataframe\">\n",
       "  <thead>\n",
       "    <tr style=\"text-align: right;\">\n",
       "      <th></th>\n",
       "      <th>index</th>\n",
       "      <th>type</th>\n",
       "      <th>id</th>\n",
       "      <th>score</th>\n",
       "      <th>tags</th>\n",
       "      <th>zip_code</th>\n",
       "      <th>complaint_id</th>\n",
       "      <th>issue</th>\n",
       "      <th>date_received</th>\n",
       "      <th>state</th>\n",
       "      <th>...</th>\n",
       "      <th>company_response</th>\n",
       "      <th>company</th>\n",
       "      <th>submitted_via</th>\n",
       "      <th>date_sent_to_company</th>\n",
       "      <th>company_public_response</th>\n",
       "      <th>sub_product</th>\n",
       "      <th>timely</th>\n",
       "      <th>complaint_what_happened</th>\n",
       "      <th>sub_issue</th>\n",
       "      <th>consumer_consent_provided</th>\n",
       "    </tr>\n",
       "  </thead>\n",
       "  <tbody>\n",
       "    <tr>\n",
       "      <th>0</th>\n",
       "      <td>complaint-public-v2</td>\n",
       "      <td>complaint</td>\n",
       "      <td>3211475</td>\n",
       "      <td>0.0</td>\n",
       "      <td>None</td>\n",
       "      <td>90301</td>\n",
       "      <td>3211475</td>\n",
       "      <td>Attempts to collect debt not owed</td>\n",
       "      <td>2019-04-13T12:00:00-05:00</td>\n",
       "      <td>CA</td>\n",
       "      <td>...</td>\n",
       "      <td>Closed with explanation</td>\n",
       "      <td>JPMORGAN CHASE &amp; CO.</td>\n",
       "      <td>Web</td>\n",
       "      <td>2019-04-13T12:00:00-05:00</td>\n",
       "      <td>None</td>\n",
       "      <td>Credit card debt</td>\n",
       "      <td>Yes</td>\n",
       "      <td></td>\n",
       "      <td>Debt is not yours</td>\n",
       "      <td>Consent not provided</td>\n",
       "    </tr>\n",
       "    <tr>\n",
       "      <th>1</th>\n",
       "      <td>complaint-public-v2</td>\n",
       "      <td>complaint</td>\n",
       "      <td>3229299</td>\n",
       "      <td>0.0</td>\n",
       "      <td>Servicemember</td>\n",
       "      <td>319XX</td>\n",
       "      <td>3229299</td>\n",
       "      <td>Written notification about debt</td>\n",
       "      <td>2019-05-01T12:00:00-05:00</td>\n",
       "      <td>GA</td>\n",
       "      <td>...</td>\n",
       "      <td>Closed with explanation</td>\n",
       "      <td>JPMORGAN CHASE &amp; CO.</td>\n",
       "      <td>Web</td>\n",
       "      <td>2019-05-01T12:00:00-05:00</td>\n",
       "      <td>None</td>\n",
       "      <td>Credit card debt</td>\n",
       "      <td>Yes</td>\n",
       "      <td>Good morning my name is XXXX XXXX and I apprec...</td>\n",
       "      <td>Didn't receive enough information to verify debt</td>\n",
       "      <td>Consent provided</td>\n",
       "    </tr>\n",
       "    <tr>\n",
       "      <th>2</th>\n",
       "      <td>complaint-public-v2</td>\n",
       "      <td>complaint</td>\n",
       "      <td>3199379</td>\n",
       "      <td>0.0</td>\n",
       "      <td>None</td>\n",
       "      <td>77069</td>\n",
       "      <td>3199379</td>\n",
       "      <td>Other features, terms, or problems</td>\n",
       "      <td>2019-04-02T12:00:00-05:00</td>\n",
       "      <td>TX</td>\n",
       "      <td>...</td>\n",
       "      <td>Closed with explanation</td>\n",
       "      <td>JPMORGAN CHASE &amp; CO.</td>\n",
       "      <td>Web</td>\n",
       "      <td>2019-04-02T12:00:00-05:00</td>\n",
       "      <td>None</td>\n",
       "      <td>General-purpose credit card or charge card</td>\n",
       "      <td>Yes</td>\n",
       "      <td>I upgraded my XXXX XXXX card in XX/XX/2018 and...</td>\n",
       "      <td>Problem with rewards from credit card</td>\n",
       "      <td>Consent provided</td>\n",
       "    </tr>\n",
       "    <tr>\n",
       "      <th>3</th>\n",
       "      <td>complaint-public-v2</td>\n",
       "      <td>complaint</td>\n",
       "      <td>2673060</td>\n",
       "      <td>0.0</td>\n",
       "      <td>None</td>\n",
       "      <td>48066</td>\n",
       "      <td>2673060</td>\n",
       "      <td>Trouble during payment process</td>\n",
       "      <td>2017-09-13T12:00:00-05:00</td>\n",
       "      <td>MI</td>\n",
       "      <td>...</td>\n",
       "      <td>Closed with explanation</td>\n",
       "      <td>JPMORGAN CHASE &amp; CO.</td>\n",
       "      <td>Web</td>\n",
       "      <td>2017-09-14T12:00:00-05:00</td>\n",
       "      <td>None</td>\n",
       "      <td>Conventional home mortgage</td>\n",
       "      <td>Yes</td>\n",
       "      <td></td>\n",
       "      <td>None</td>\n",
       "      <td>Consent not provided</td>\n",
       "    </tr>\n",
       "    <tr>\n",
       "      <th>4</th>\n",
       "      <td>complaint-public-v2</td>\n",
       "      <td>complaint</td>\n",
       "      <td>3203545</td>\n",
       "      <td>0.0</td>\n",
       "      <td>None</td>\n",
       "      <td>10473</td>\n",
       "      <td>3203545</td>\n",
       "      <td>Fees or interest</td>\n",
       "      <td>2019-04-05T12:00:00-05:00</td>\n",
       "      <td>NY</td>\n",
       "      <td>...</td>\n",
       "      <td>Closed with explanation</td>\n",
       "      <td>JPMORGAN CHASE &amp; CO.</td>\n",
       "      <td>Referral</td>\n",
       "      <td>2019-04-05T12:00:00-05:00</td>\n",
       "      <td>None</td>\n",
       "      <td>General-purpose credit card or charge card</td>\n",
       "      <td>Yes</td>\n",
       "      <td></td>\n",
       "      <td>Charged too much interest</td>\n",
       "      <td>N/A</td>\n",
       "    </tr>\n",
       "  </tbody>\n",
       "</table>\n",
       "<p>5 rows × 22 columns</p>\n",
       "</div>"
      ],
      "text/plain": [
       "                 index       type       id  score           tags zip_code  \\\n",
       "0  complaint-public-v2  complaint  3211475    0.0           None    90301   \n",
       "1  complaint-public-v2  complaint  3229299    0.0  Servicemember    319XX   \n",
       "2  complaint-public-v2  complaint  3199379    0.0           None    77069   \n",
       "3  complaint-public-v2  complaint  2673060    0.0           None    48066   \n",
       "4  complaint-public-v2  complaint  3203545    0.0           None    10473   \n",
       "\n",
       "  complaint_id                               issue              date_received  \\\n",
       "0      3211475   Attempts to collect debt not owed  2019-04-13T12:00:00-05:00   \n",
       "1      3229299     Written notification about debt  2019-05-01T12:00:00-05:00   \n",
       "2      3199379  Other features, terms, or problems  2019-04-02T12:00:00-05:00   \n",
       "3      2673060      Trouble during payment process  2017-09-13T12:00:00-05:00   \n",
       "4      3203545                    Fees or interest  2019-04-05T12:00:00-05:00   \n",
       "\n",
       "  state  ...         company_response               company submitted_via  \\\n",
       "0    CA  ...  Closed with explanation  JPMORGAN CHASE & CO.           Web   \n",
       "1    GA  ...  Closed with explanation  JPMORGAN CHASE & CO.           Web   \n",
       "2    TX  ...  Closed with explanation  JPMORGAN CHASE & CO.           Web   \n",
       "3    MI  ...  Closed with explanation  JPMORGAN CHASE & CO.           Web   \n",
       "4    NY  ...  Closed with explanation  JPMORGAN CHASE & CO.      Referral   \n",
       "\n",
       "        date_sent_to_company company_public_response  \\\n",
       "0  2019-04-13T12:00:00-05:00                    None   \n",
       "1  2019-05-01T12:00:00-05:00                    None   \n",
       "2  2019-04-02T12:00:00-05:00                    None   \n",
       "3  2017-09-14T12:00:00-05:00                    None   \n",
       "4  2019-04-05T12:00:00-05:00                    None   \n",
       "\n",
       "                                  sub_product timely  \\\n",
       "0                            Credit card debt    Yes   \n",
       "1                            Credit card debt    Yes   \n",
       "2  General-purpose credit card or charge card    Yes   \n",
       "3                  Conventional home mortgage    Yes   \n",
       "4  General-purpose credit card or charge card    Yes   \n",
       "\n",
       "                             complaint_what_happened  \\\n",
       "0                                                      \n",
       "1  Good morning my name is XXXX XXXX and I apprec...   \n",
       "2  I upgraded my XXXX XXXX card in XX/XX/2018 and...   \n",
       "3                                                      \n",
       "4                                                      \n",
       "\n",
       "                                          sub_issue consumer_consent_provided  \n",
       "0                                 Debt is not yours      Consent not provided  \n",
       "1  Didn't receive enough information to verify debt          Consent provided  \n",
       "2             Problem with rewards from credit card          Consent provided  \n",
       "3                                              None      Consent not provided  \n",
       "4                         Charged too much interest                       N/A  \n",
       "\n",
       "[5 rows x 22 columns]"
      ]
     },
     "execution_count": 5,
     "metadata": {},
     "output_type": "execute_result"
    }
   ],
   "source": [
    "#Assign new column names\n",
    "new_cols = {col:(col[col.index('.')+1:] if col.startswith('_source') else col.strip('_')) for col in df.columns}\n",
    "df = df.rename(new_cols, axis=1)\n",
    "df.head()"
   ]
  },
  {
   "cell_type": "code",
   "execution_count": 6,
   "metadata": {
    "id": "grQUPFL5JrFx"
   },
   "outputs": [
    {
     "name": "stdout",
     "output_type": "stream",
     "text": [
      "<class 'pandas.core.frame.DataFrame'>\n",
      "RangeIndex: 78313 entries, 0 to 78312\n",
      "Data columns (total 23 columns):\n",
      " #   Column                     Non-Null Count  Dtype  \n",
      "---  ------                     --------------  -----  \n",
      " 0   index                      78313 non-null  object \n",
      " 1   type                       78313 non-null  object \n",
      " 2   id                         78313 non-null  object \n",
      " 3   score                      78313 non-null  float64\n",
      " 4   tags                       10900 non-null  object \n",
      " 5   zip_code                   71556 non-null  object \n",
      " 6   complaint_id               78313 non-null  object \n",
      " 7   issue                      78313 non-null  object \n",
      " 8   date_received              78313 non-null  object \n",
      " 9   state                      76322 non-null  object \n",
      " 10  consumer_disputed          78313 non-null  object \n",
      " 11  product                    78313 non-null  object \n",
      " 12  company_response           78313 non-null  object \n",
      " 13  company                    78313 non-null  object \n",
      " 14  submitted_via              78313 non-null  object \n",
      " 15  date_sent_to_company       78313 non-null  object \n",
      " 16  company_public_response    4 non-null      object \n",
      " 17  sub_product                67742 non-null  object \n",
      " 18  timely                     78313 non-null  object \n",
      " 19  complaint_what_happened    78313 non-null  object \n",
      " 20  sub_issue                  32016 non-null  object \n",
      " 21  consumer_consent_provided  77305 non-null  object \n",
      " 22  complaint                  21072 non-null  object \n",
      "dtypes: float64(1), object(22)\n",
      "memory usage: 13.7+ MB\n",
      "None\n"
     ]
    },
    {
     "data": {
      "image/png": "[encoded data removed]",
      "text/plain": [
       "<Figure size 432x288 with 1 Axes>"
      ]
     },
     "metadata": {
      "needs_background": "light"
     },
     "output_type": "display_data"
    }
   ],
   "source": [
    "#Assign nan in place of blanks in the complaints column\n",
    "df['complaint']= df.complaint_what_happened.apply(lambda x: np.nan if len(x)==0 else x)\n",
    "missing_values = df.isna().sum()/len(df.index)*100\n",
    "missing_values_percentage = missing_values[missing_values!=0]\n",
    "ax = sns.barplot(x = missing_values_percentage.index, y = missing_values_percentage.values)\n",
    "ax.tick_params(axis='x', rotation=90)\n",
    "print(df.info())"
   ]
  },
  {
   "cell_type": "markdown",
   "metadata": {},
   "source": [
    "Columns like 'tags' and 'company_public_response' has the highest missing value percentages."
   ]
  },
  {
   "cell_type": "code",
   "execution_count": 7,
   "metadata": {
    "id": "Jfxd8VSmJrFy"
   },
   "outputs": [
    {
     "name": "stdout",
     "output_type": "stream",
     "text": [
      "<class 'pandas.core.frame.DataFrame'>\n",
      "Int64Index: 21072 entries, 1 to 78312\n",
      "Data columns (total 23 columns):\n",
      " #   Column                     Non-Null Count  Dtype  \n",
      "---  ------                     --------------  -----  \n",
      " 0   index                      21072 non-null  object \n",
      " 1   type                       21072 non-null  object \n",
      " 2   id                         21072 non-null  object \n",
      " 3   score                      21072 non-null  float64\n",
      " 4   tags                       3816 non-null   object \n",
      " 5   zip_code                   16427 non-null  object \n",
      " 6   complaint_id               21072 non-null  object \n",
      " 7   issue                      21072 non-null  object \n",
      " 8   date_received              21072 non-null  object \n",
      " 9   state                      20929 non-null  object \n",
      " 10  consumer_disputed          21072 non-null  object \n",
      " 11  product                    21072 non-null  object \n",
      " 12  company_response           21072 non-null  object \n",
      " 13  company                    21072 non-null  object \n",
      " 14  submitted_via              21072 non-null  object \n",
      " 15  date_sent_to_company       21072 non-null  object \n",
      " 16  company_public_response    2 non-null      object \n",
      " 17  sub_product                18963 non-null  object \n",
      " 18  timely                     21072 non-null  object \n",
      " 19  complaint_what_happened    21072 non-null  object \n",
      " 20  sub_issue                  12896 non-null  object \n",
      " 21  consumer_consent_provided  21072 non-null  object \n",
      " 22  complaint                  21072 non-null  object \n",
      "dtypes: float64(1), object(22)\n",
      "memory usage: 3.9+ MB\n",
      "None\n"
     ]
    }
   ],
   "source": [
    "#Remove all rows where complaints column is nan\n",
    "df = df[~df.complaint.isna()]\n",
    "print(df.info())"
   ]
  },
  {
   "cell_type": "markdown",
   "metadata": {
    "id": "L944HZpsJrFy"
   },
   "source": [
    "## Prepare the text for topic modeling\n",
    "\n",
    "Once you have removed all the blank complaints, you need to:\n",
    "\n",
    "* Make the text lowercase\n",
    "* Remove text in square brackets\n",
    "* Remove punctuation\n",
    "* Remove words containing numbers\n",
    "\n",
    "\n",
    "Once you have done these cleaning operations you need to perform the following:\n",
    "* Lemmatize the texts\n",
    "* Extract the POS tags of the lemmatized text and remove all the words which have tags other than NN[tag == \"NN\"].\n"
   ]
  },
  {
   "cell_type": "code",
   "execution_count": 8,
   "metadata": {
    "id": "qm7SjjSkJrFz"
   },
   "outputs": [],
   "source": [
    "# Write your function here to clean the text and remove all the unnecessary elements.\n",
    "def clean_complaint_text(complaint):\n",
    "    cleaned_complaint = complaint.lower()\n",
    "    cleaned_complaint = re.sub('\\[.*\\]',' ', cleaned_complaint)\n",
    "    cleaned_complaint = re.sub(f'[{string.punctuation}]',' ', cleaned_complaint)\n",
    "    cleaned_complaint = re.sub('([a-z]+[0-9]+[a-z]*|[a-z]*[0-9]+[a-z]+)','', cleaned_complaint)\n",
    "    return cleaned_complaint\n",
    "    \n",
    "    \n",
    "df['complaint_text']=df.complaint.apply(clean_complaint_text)"
   ]
  },
  {
   "cell_type": "code",
   "execution_count": 9,
   "metadata": {
    "id": "zgOu8t8HJrFz"
   },
   "outputs": [],
   "source": [
    "#Write your function to Lemmatize the texts\n",
    "from nltk.stem import WordNetLemmatizer\n",
    "from nltk.tokenize import word_tokenize\n",
    "\n",
    "lemmatizer = WordNetLemmatizer()\n",
    "\n",
    "def lemmatize_complaint_text(complaint):\n",
    "    return [lemmatizer.lemmatize(token) for token in word_tokenize(complaint)]"
   ]
  },
  {
   "cell_type": "code",
   "execution_count": 10,
   "metadata": {
    "id": "uXnN7aa_JrF0"
   },
   "outputs": [],
   "source": [
    "#Create a dataframe('df_clean') that will have only the complaints and the lemmatized complaints \n",
    "df['lemmatized_complaint'] = df.complaint_text.apply(lemmatize_complaint_text)\n",
    "\n",
    "df_clean = df[['complaint_text', 'lemmatized_complaint']]"
   ]
  },
  {
   "cell_type": "code",
   "execution_count": 11,
   "metadata": {
    "id": "nOiDVvEIJrF0"
   },
   "outputs": [
    {
     "data": {
      "text/html": [
       "<div>\n",
       "<style scoped>\n",
       "    .dataframe tbody tr th:only-of-type {\n",
       "        vertical-align: middle;\n",
       "    }\n",
       "\n",
       "    .dataframe tbody tr th {\n",
       "        vertical-align: top;\n",
       "    }\n",
       "\n",
       "    .dataframe thead th {\n",
       "        text-align: right;\n",
       "    }\n",
       "</style>\n",
       "<table border=\"1\" class=\"dataframe\">\n",
       "  <thead>\n",
       "    <tr style=\"text-align: right;\">\n",
       "      <th></th>\n",
       "      <th>complaint_text</th>\n",
       "      <th>lemmatized_complaint</th>\n",
       "    </tr>\n",
       "  </thead>\n",
       "  <tbody>\n",
       "    <tr>\n",
       "      <th>1</th>\n",
       "      <td>good morning my name is xxxx xxxx and i apprec...</td>\n",
       "      <td>[good, morning, my, name, is, xxxx, xxxx, and,...</td>\n",
       "    </tr>\n",
       "    <tr>\n",
       "      <th>2</th>\n",
       "      <td>i upgraded my xxxx xxxx card in xx xx 2018 and...</td>\n",
       "      <td>[i, upgraded, my, xxxx, xxxx, card, in, xx, xx...</td>\n",
       "    </tr>\n",
       "    <tr>\n",
       "      <th>10</th>\n",
       "      <td>chase card was reported on xx xx 2019  however...</td>\n",
       "      <td>[chase, card, wa, reported, on, xx, xx, 2019, ...</td>\n",
       "    </tr>\n",
       "    <tr>\n",
       "      <th>11</th>\n",
       "      <td>on xx xx 2018  while trying to book a xxxx  xx...</td>\n",
       "      <td>[on, xx, xx, 2018, while, trying, to, book, a,...</td>\n",
       "    </tr>\n",
       "    <tr>\n",
       "      <th>14</th>\n",
       "      <td>my grand son give me check for   1600 00  i de...</td>\n",
       "      <td>[my, grand, son, give, me, check, for, 1600, 0...</td>\n",
       "    </tr>\n",
       "    <tr>\n",
       "      <th>...</th>\n",
       "      <td>...</td>\n",
       "      <td>...</td>\n",
       "    </tr>\n",
       "    <tr>\n",
       "      <th>78303</th>\n",
       "      <td>after being a chase card customer for well ove...</td>\n",
       "      <td>[after, being, a, chase, card, customer, for, ...</td>\n",
       "    </tr>\n",
       "    <tr>\n",
       "      <th>78309</th>\n",
       "      <td>on wednesday  xx xx xxxx i called chas  my xxx...</td>\n",
       "      <td>[on, wednesday, xx, xx, xxxx, i, called, chas,...</td>\n",
       "    </tr>\n",
       "    <tr>\n",
       "      <th>78310</th>\n",
       "      <td>i am not familiar with xxxx pay and did not un...</td>\n",
       "      <td>[i, am, not, familiar, with, xxxx, pay, and, d...</td>\n",
       "    </tr>\n",
       "    <tr>\n",
       "      <th>78311</th>\n",
       "      <td>i have had flawless credit for 30 yrs  i ve ha...</td>\n",
       "      <td>[i, have, had, flawless, credit, for, 30, yr, ...</td>\n",
       "    </tr>\n",
       "    <tr>\n",
       "      <th>78312</th>\n",
       "      <td>roughly 10  years ago i closed out my accounts...</td>\n",
       "      <td>[roughly, 10, year, ago, i, closed, out, my, a...</td>\n",
       "    </tr>\n",
       "  </tbody>\n",
       "</table>\n",
       "<p>21072 rows × 2 columns</p>\n",
       "</div>"
      ],
      "text/plain": [
       "                                          complaint_text  \\\n",
       "1      good morning my name is xxxx xxxx and i apprec...   \n",
       "2      i upgraded my xxxx xxxx card in xx xx 2018 and...   \n",
       "10     chase card was reported on xx xx 2019  however...   \n",
       "11     on xx xx 2018  while trying to book a xxxx  xx...   \n",
       "14     my grand son give me check for   1600 00  i de...   \n",
       "...                                                  ...   \n",
       "78303  after being a chase card customer for well ove...   \n",
       "78309  on wednesday  xx xx xxxx i called chas  my xxx...   \n",
       "78310  i am not familiar with xxxx pay and did not un...   \n",
       "78311  i have had flawless credit for 30 yrs  i ve ha...   \n",
       "78312  roughly 10  years ago i closed out my accounts...   \n",
       "\n",
       "                                    lemmatized_complaint  \n",
       "1      [good, morning, my, name, is, xxxx, xxxx, and,...  \n",
       "2      [i, upgraded, my, xxxx, xxxx, card, in, xx, xx...  \n",
       "10     [chase, card, wa, reported, on, xx, xx, 2019, ...  \n",
       "11     [on, xx, xx, 2018, while, trying, to, book, a,...  \n",
       "14     [my, grand, son, give, me, check, for, 1600, 0...  \n",
       "...                                                  ...  \n",
       "78303  [after, being, a, chase, card, customer, for, ...  \n",
       "78309  [on, wednesday, xx, xx, xxxx, i, called, chas,...  \n",
       "78310  [i, am, not, familiar, with, xxxx, pay, and, d...  \n",
       "78311  [i, have, had, flawless, credit, for, 30, yr, ...  \n",
       "78312  [roughly, 10, year, ago, i, closed, out, my, a...  \n",
       "\n",
       "[21072 rows x 2 columns]"
      ]
     },
     "execution_count": 11,
     "metadata": {},
     "output_type": "execute_result"
    }
   ],
   "source": [
    "df_clean"
   ]
  },
  {
   "cell_type": "code",
   "execution_count": 12,
   "metadata": {
    "id": "Kk7fc4DuJrF1"
   },
   "outputs": [],
   "source": [
    "#Write your function to extract the POS tags \n",
    "\n",
    "def pos_tag(complaint):\n",
    "    # write your code here\n",
    "    return [ token.pos_ for token in nlp(complaint)]\n",
    "\n",
    "\n",
    "\n",
    "#df_clean[\"complaint_POS_removed\"] =  #this column should contain lemmatized text with all the words removed which have tags other than NN[tag == \"NN\"].\n",
    "#df_clean['lemmatized_complaint'].str.replace('-PRON-', '')"
   ]
  },
  {
   "cell_type": "code",
   "execution_count": 13,
   "metadata": {
    "id": "AjxfchvFJrF2"
   },
   "outputs": [
    {
     "name": "stderr",
     "output_type": "stream",
     "text": [
      "C:\\Users\\Namrata Thakur\\anaconda3\\envs\\python39\\lib\\site-packages\\pandas\\core\\frame.py:3607: SettingWithCopyWarning:\n",
      "\n",
      "\n",
      "A value is trying to be set on a copy of a slice from a DataFrame.\n",
      "Try using .loc[row_indexer,col_indexer] = value instead\n",
      "\n",
      "See the caveats in the documentation: https://pandas.pydata.org/pandas-docs/stable/user_guide/indexing.html#returning-a-view-versus-a-copy\n",
      "\n"
     ]
    },
    {
     "data": {
      "text/html": [
       "<div>\n",
       "<style scoped>\n",
       "    .dataframe tbody tr th:only-of-type {\n",
       "        vertical-align: middle;\n",
       "    }\n",
       "\n",
       "    .dataframe tbody tr th {\n",
       "        vertical-align: top;\n",
       "    }\n",
       "\n",
       "    .dataframe thead th {\n",
       "        text-align: right;\n",
       "    }\n",
       "</style>\n",
       "<table border=\"1\" class=\"dataframe\">\n",
       "  <thead>\n",
       "    <tr style=\"text-align: right;\">\n",
       "      <th></th>\n",
       "      <th>complaint_text</th>\n",
       "      <th>lemmatized_complaint</th>\n",
       "      <th>pos_tags</th>\n",
       "    </tr>\n",
       "  </thead>\n",
       "  <tbody>\n",
       "    <tr>\n",
       "      <th>1</th>\n",
       "      <td>good morning my name is xxxx xxxx and i apprec...</td>\n",
       "      <td>[good, morning, my, name, is, xxxx, xxxx, and,...</td>\n",
       "      <td>[ADJ, NOUN, PRON, NOUN, AUX, PROPN, PROPN, CCO...</td>\n",
       "    </tr>\n",
       "    <tr>\n",
       "      <th>2</th>\n",
       "      <td>i upgraded my xxxx xxxx card in xx xx 2018 and...</td>\n",
       "      <td>[i, upgraded, my, xxxx, xxxx, card, in, xx, xx...</td>\n",
       "      <td>[PRON, VERB, PRON, PROPN, NOUN, NOUN, ADP, PRO...</td>\n",
       "    </tr>\n",
       "    <tr>\n",
       "      <th>10</th>\n",
       "      <td>chase card was reported on xx xx 2019  however...</td>\n",
       "      <td>[chase, card, wa, reported, on, xx, xx, 2019, ...</td>\n",
       "      <td>[PROPN, PROPN, AUX, VERB, ADP, PROPN, PROPN, N...</td>\n",
       "    </tr>\n",
       "    <tr>\n",
       "      <th>11</th>\n",
       "      <td>on xx xx 2018  while trying to book a xxxx  xx...</td>\n",
       "      <td>[on, xx, xx, 2018, while, trying, to, book, a,...</td>\n",
       "      <td>[ADP, PROPN, PROPN, NUM, SPACE, SCONJ, VERB, P...</td>\n",
       "    </tr>\n",
       "    <tr>\n",
       "      <th>14</th>\n",
       "      <td>my grand son give me check for   1600 00  i de...</td>\n",
       "      <td>[my, grand, son, give, me, check, for, 1600, 0...</td>\n",
       "      <td>[PRON, ADJ, NOUN, VERB, PRON, VERB, ADP, SPACE...</td>\n",
       "    </tr>\n",
       "    <tr>\n",
       "      <th>...</th>\n",
       "      <td>...</td>\n",
       "      <td>...</td>\n",
       "      <td>...</td>\n",
       "    </tr>\n",
       "    <tr>\n",
       "      <th>78303</th>\n",
       "      <td>after being a chase card customer for well ove...</td>\n",
       "      <td>[after, being, a, chase, card, customer, for, ...</td>\n",
       "      <td>[ADP, VERB, DET, NOUN, NOUN, NOUN, ADP, ADV, A...</td>\n",
       "    </tr>\n",
       "    <tr>\n",
       "      <th>78309</th>\n",
       "      <td>on wednesday  xx xx xxxx i called chas  my xxx...</td>\n",
       "      <td>[on, wednesday, xx, xx, xxxx, i, called, chas,...</td>\n",
       "      <td>[ADP, PROPN, SPACE, NUM, NUM, NOUN, PRON, VERB...</td>\n",
       "    </tr>\n",
       "    <tr>\n",
       "      <th>78310</th>\n",
       "      <td>i am not familiar with xxxx pay and did not un...</td>\n",
       "      <td>[i, am, not, familiar, with, xxxx, pay, and, d...</td>\n",
       "      <td>[PRON, AUX, PART, ADJ, ADP, ADJ, NOUN, CCONJ, ...</td>\n",
       "    </tr>\n",
       "    <tr>\n",
       "      <th>78311</th>\n",
       "      <td>i have had flawless credit for 30 yrs  i ve ha...</td>\n",
       "      <td>[i, have, had, flawless, credit, for, 30, yr, ...</td>\n",
       "      <td>[PRON, AUX, VERB, ADJ, NOUN, ADP, NUM, NOUN, S...</td>\n",
       "    </tr>\n",
       "    <tr>\n",
       "      <th>78312</th>\n",
       "      <td>roughly 10  years ago i closed out my accounts...</td>\n",
       "      <td>[roughly, 10, year, ago, i, closed, out, my, a...</td>\n",
       "      <td>[ADV, NUM, SPACE, NOUN, ADV, PRON, VERB, ADP, ...</td>\n",
       "    </tr>\n",
       "  </tbody>\n",
       "</table>\n",
       "<p>21072 rows × 3 columns</p>\n",
       "</div>"
      ],
      "text/plain": [
       "                                          complaint_text  \\\n",
       "1      good morning my name is xxxx xxxx and i apprec...   \n",
       "2      i upgraded my xxxx xxxx card in xx xx 2018 and...   \n",
       "10     chase card was reported on xx xx 2019  however...   \n",
       "11     on xx xx 2018  while trying to book a xxxx  xx...   \n",
       "14     my grand son give me check for   1600 00  i de...   \n",
       "...                                                  ...   \n",
       "78303  after being a chase card customer for well ove...   \n",
       "78309  on wednesday  xx xx xxxx i called chas  my xxx...   \n",
       "78310  i am not familiar with xxxx pay and did not un...   \n",
       "78311  i have had flawless credit for 30 yrs  i ve ha...   \n",
       "78312  roughly 10  years ago i closed out my accounts...   \n",
       "\n",
       "                                    lemmatized_complaint  \\\n",
       "1      [good, morning, my, name, is, xxxx, xxxx, and,...   \n",
       "2      [i, upgraded, my, xxxx, xxxx, card, in, xx, xx...   \n",
       "10     [chase, card, wa, reported, on, xx, xx, 2019, ...   \n",
       "11     [on, xx, xx, 2018, while, trying, to, book, a,...   \n",
       "14     [my, grand, son, give, me, check, for, 1600, 0...   \n",
       "...                                                  ...   \n",
       "78303  [after, being, a, chase, card, customer, for, ...   \n",
       "78309  [on, wednesday, xx, xx, xxxx, i, called, chas,...   \n",
       "78310  [i, am, not, familiar, with, xxxx, pay, and, d...   \n",
       "78311  [i, have, had, flawless, credit, for, 30, yr, ...   \n",
       "78312  [roughly, 10, year, ago, i, closed, out, my, a...   \n",
       "\n",
       "                                                pos_tags  \n",
       "1      [ADJ, NOUN, PRON, NOUN, AUX, PROPN, PROPN, CCO...  \n",
       "2      [PRON, VERB, PRON, PROPN, NOUN, NOUN, ADP, PRO...  \n",
       "10     [PROPN, PROPN, AUX, VERB, ADP, PROPN, PROPN, N...  \n",
       "11     [ADP, PROPN, PROPN, NUM, SPACE, SCONJ, VERB, P...  \n",
       "14     [PRON, ADJ, NOUN, VERB, PRON, VERB, ADP, SPACE...  \n",
       "...                                                  ...  \n",
       "78303  [ADP, VERB, DET, NOUN, NOUN, NOUN, ADP, ADV, A...  \n",
       "78309  [ADP, PROPN, SPACE, NUM, NUM, NOUN, PRON, VERB...  \n",
       "78310  [PRON, AUX, PART, ADJ, ADP, ADJ, NOUN, CCONJ, ...  \n",
       "78311  [PRON, AUX, VERB, ADJ, NOUN, ADP, NUM, NOUN, S...  \n",
       "78312  [ADV, NUM, SPACE, NOUN, ADV, PRON, VERB, ADP, ...  \n",
       "\n",
       "[21072 rows x 3 columns]"
      ]
     },
     "execution_count": 13,
     "metadata": {},
     "output_type": "execute_result"
    }
   ],
   "source": [
    "#The clean dataframe should now contain the raw complaint, lemmatized complaint and the complaint after removing POS tags.\n",
    "df_clean['pos_tags'] = df_clean.complaint_text.apply(pos_tag)\n",
    "df_clean"
   ]
  },
  {
   "cell_type": "markdown",
   "metadata": {
    "id": "_7Un1AElJrF2"
   },
   "source": [
    "## Exploratory data analysis to get familiar with the data.\n",
    "\n",
    "Write the code in this task to perform the following:\n",
    "\n",
    "*   Visualise the data according to the 'Complaint' character length\n",
    "*   Using a word cloud find the top 40 words by frequency among all the articles after processing the text\n",
    "*   Find the top unigrams,bigrams and trigrams by frequency among all the complaints after processing the text. ‘\n",
    "\n",
    "\n"
   ]
  },
  {
   "cell_type": "code",
   "execution_count": 14,
   "metadata": {
    "id": "q-zaqJF6JrF2"
   },
   "outputs": [
    {
     "data": {
      "image/png": "[encoded data removed]",
      "text/plain": [
       "<Figure size 432x288 with 1 Axes>"
      ]
     },
     "metadata": {
      "needs_background": "light"
     },
     "output_type": "display_data"
    }
   ],
   "source": [
    "# Write your code here to visualise the data according to the 'Complaint' character length\n",
    "sns.histplot(df_clean.complaint_text.apply(len))\n",
    "plt.ylabel('Character Count')\n",
    "plt.title('Visualisation of Complaint character length')\n",
    "plt.show()"
   ]
  },
  {
   "cell_type": "markdown",
   "metadata": {
    "id": "T9jD_6SeJrF3"
   },
   "source": [
    "#### Find the top 40 words by frequency among all the articles after processing the text."
   ]
  },
  {
   "cell_type": "markdown",
   "metadata": {},
   "source": [
    "Create a custom stopword list that includes 'xxx' words also. Since these are words are not important so they should be igmored."
   ]
  },
  {
   "cell_type": "code",
   "execution_count": 15,
   "metadata": {
    "id": "QcfdvtfZJrF3"
   },
   "outputs": [
    {
     "data": {
      "image/png": "[encoded data removed]",
      "text/plain": [
       "<Figure size 720x720 with 1 Axes>"
      ]
     },
     "metadata": {
      "needs_background": "light"
     },
     "output_type": "display_data"
    }
   ],
   "source": [
    "#Using a word cloud find the top 40 words by frequency among all the articles after processing the text\n",
    "from wordcloud import WordCloud, STOPWORDS\n",
    "words_with_xx = ['x'*n for n in set([len(xx) for sent in df_clean.complaint_text.values for xx in re.findall('[x]+', sent)])]\n",
    "updated_stopwords = set(list(STOPWORDS) +words_with_xx )\n",
    "\n",
    "complaint_words = [word for sent in df_clean.complaint_text.values for word in sent.split()]\n",
    "\n",
    "# complaint_words\n",
    "wordcloud = WordCloud(width = 800, height = 800,\n",
    "                background_color ='white',max_words=40,\n",
    "                stopwords = updated_stopwords,\n",
    "                min_font_size = 10).generate(\" \".join(complaint_words))\n",
    "\n",
    "plt.figure(figsize = (10, 10), facecolor = None)\n",
    "plt.imshow(wordcloud)\n",
    "plt.axis(\"off\")\n",
    "plt.show()"
   ]
  },
  {
   "cell_type": "code",
   "execution_count": 16,
   "metadata": {
    "id": "OkSmc3UaJrF4"
   },
   "outputs": [
    {
     "name": "stderr",
     "output_type": "stream",
     "text": [
      "C:\\Users\\Namrata Thakur\\anaconda3\\envs\\python39\\lib\\site-packages\\pandas\\core\\frame.py:3607: SettingWithCopyWarning:\n",
      "\n",
      "\n",
      "A value is trying to be set on a copy of a slice from a DataFrame.\n",
      "Try using .loc[row_indexer,col_indexer] = value instead\n",
      "\n",
      "See the caveats in the documentation: https://pandas.pydata.org/pandas-docs/stable/user_guide/indexing.html#returning-a-view-versus-a-copy\n",
      "\n"
     ]
    }
   ],
   "source": [
    "#Removing -PRON- from the text corpus\n",
    "df_clean['Complaint_clean'] = df_clean['complaint_text'].str.replace('-PRON-', '')"
   ]
  },
  {
   "cell_type": "markdown",
   "metadata": {
    "id": "5DfCSbbmJrF4"
   },
   "source": [
    "#### Find the top unigrams,bigrams and trigrams by frequency among all the complaints after processing the text."
   ]
  },
  {
   "cell_type": "code",
   "execution_count": 17,
   "metadata": {
    "id": "5mbk5DS5JrF4"
   },
   "outputs": [
    {
     "name": "stderr",
     "output_type": "stream",
     "text": [
      "100%|█████████████████████████████████████████████████████████████████████████| 21072/21072 [00:00<00:00, 35683.93it/s]\n"
     ]
    },
    {
     "name": "stdout",
     "output_type": "stream",
     "text": [
      "[(('the',), 239108), (('i',), 196860), (('to',), 182019), (('and',), 145918), (('a',), 106792), (('my',), 106644), (('that',), 86506), (('chase',), 80734), (('was',), 79779), (('of',), 79238), (('on',), 63256), (('in',), 62658), (('they',), 56390), (('for',), 55377), (('me',), 51860), (('not',), 51574), (('this',), 47517), (('have',), 44762), (('with',), 43899), (('is',), 43536), (('account',), 42713), (('it',), 39296), (('credit',), 32789), (('00',), 30454), (('from',), 30340), (('card',), 26911), (('bank',), 26733), (('as',), 26623), (('had',), 26538), (('be',), 23353)]\n"
     ]
    }
   ],
   "source": [
    "#Write your code here to find the top 30 unigram frequency among the complaints in the cleaned datafram(df_clean). \n",
    "from functools import reduce\n",
    "import tqdm\n",
    "complaint_words = [word for complaint in tqdm.tqdm(df_clean.Complaint_clean.values) for word in complaint.split() ]\n",
    "complaint_words_without_xx = [x for x in complaint_words if x not in words_with_xx]\n",
    "from nltk import ngrams\n",
    "n=1\n",
    "unigrams = ngrams(complaint_words_without_xx, n)\n",
    "unigram_frequency = nltk.FreqDist(unigrams)\n",
    "print(unigram_frequency.most_common(30))"
   ]
  },
  {
   "cell_type": "code",
   "execution_count": 18,
   "metadata": {
    "id": "YX7fedm1JrF8"
   },
   "outputs": [
    {
     "name": "stdout",
     "output_type": "stream",
     "text": [
      "[(('the',), 239108), (('i',), 196860), (('to',), 182019), (('and',), 145918), (('a',), 106792), (('my',), 106644), (('that',), 86506), (('chase',), 80734), (('was',), 79779), (('of',), 79238)]\n"
     ]
    }
   ],
   "source": [
    "#Print the top 10 words in the unigram frequency\n",
    "print(unigram_frequency.most_common(10))"
   ]
  },
  {
   "cell_type": "code",
   "execution_count": 19,
   "metadata": {
    "id": "aV7kD7w8JrF8"
   },
   "outputs": [
    {
     "name": "stdout",
     "output_type": "stream",
     "text": [
      "[(('i', 'was'), 19981), (('i', 'have'), 19531), (('of', 'the'), 16897), (('that', 'i'), 15564), (('to', 'the'), 13629), (('my', 'account'), 12879), (('chase', 'bank'), 12589), (('in', 'the'), 12203), (('and', 'i'), 11695), (('on', 'the'), 11127), (('credit', 'card'), 10904), (('i', 'am'), 10618), (('my', 'credit'), 9949), (('i', 'had'), 9906), (('for', 'the'), 9562), (('on', 'my'), 9515), (('did', 'not'), 9065), (('that', 'the'), 8909), (('i', 'called'), 8145), (('it', 'was'), 7660), (('to', 'my'), 7618), (('with', 'the'), 7323), (('and', 'the'), 7246), (('to', 'be'), 7205), (('that', 'they'), 7094), (('the', 'account'), 6997), (('of', 'my'), 6954), (('and', 'they'), 6896), (('when', 'i'), 6512), (('for', 'a'), 6233)]\n"
     ]
    }
   ],
   "source": [
    "#Write your code here to find the top 30 bigram frequency among the complaints in the cleaned datafram(df_clean). \n",
    "n=2\n",
    "bigrams = ngrams(complaint_words_without_xx, n)\n",
    "bigram_frequency = nltk.FreqDist(bigrams)\n",
    "print(bigram_frequency.most_common(30))"
   ]
  },
  {
   "cell_type": "code",
   "execution_count": 20,
   "metadata": {
    "id": "NPnMNIpyJrF9"
   },
   "outputs": [
    {
     "name": "stdout",
     "output_type": "stream",
     "text": [
      "[(('i', 'was'), 19981), (('i', 'have'), 19531), (('of', 'the'), 16897), (('that', 'i'), 15564), (('to', 'the'), 13629), (('my', 'account'), 12879), (('chase', 'bank'), 12589), (('in', 'the'), 12203), (('and', 'i'), 11695), (('on', 'the'), 11127)]\n"
     ]
    }
   ],
   "source": [
    "#Print the top 10 words in the bigram frequency\n",
    "print(bigram_frequency.most_common(10))"
   ]
  },
  {
   "cell_type": "code",
   "execution_count": 21,
   "metadata": {
    "id": "Xkh7vtbtJrF-"
   },
   "outputs": [
    {
     "name": "stdout",
     "output_type": "stream",
     "text": [
      "[(('i', 'did', 'not'), 3599), (('i', 'was', 'told'), 3415), (('my', 'credit', 'report'), 2577), (('i', 'have', 'been'), 2537), (('i', 'received', 'a'), 2517), (('on', 'my', 'credit'), 2444), (('i', 'called', 'chase'), 2399), (('jp', 'morgan', 'chase'), 2208), (('my', 'credit', 'card'), 2157), (('told', 'me', 'that'), 2087), (('that', 'i', 'was'), 1930), (('the', 'amount', 'of'), 1891), (('chase', 'credit', 'card'), 1882), (('was', 'told', 'that'), 1835), (('that', 'i', 'had'), 1746), (('i', 'do', 'not'), 1694), (('on', 'my', 'account'), 1589), (('to', 'my', 'account'), 1556), (('i', 'have', 'a'), 1474), (('and', 'was', 'told'), 1473), (('i', 'had', 'to'), 1473), (('they', 'told', 'me'), 1410), (('with', 'chase', 'bank'), 1410), (('my', 'account', 'and'), 1409), (('the', 'credit', 'card'), 1379), (('my', 'checking', 'account'), 1347), (('and', 'i', 'have'), 1340), (('did', 'n', 't'), 1326), (('i', 'went', 'to'), 1324), (('on', 'the', 'phone'), 1322)]\n"
     ]
    }
   ],
   "source": [
    "#Write your code here to find the top 30 trigram frequency among the complaints in the cleaned datafram(df_clean). \n",
    "n=3\n",
    "trigrams = ngrams(complaint_words_without_xx, n)\n",
    "trigram_frequency = nltk.FreqDist(trigrams)\n",
    "print(trigram_frequency.most_common(30))"
   ]
  },
  {
   "cell_type": "code",
   "execution_count": 22,
   "metadata": {
    "id": "REcVxNfvJrF-"
   },
   "outputs": [
    {
     "name": "stdout",
     "output_type": "stream",
     "text": [
      "[(('i', 'did', 'not'), 3599), (('i', 'was', 'told'), 3415), (('my', 'credit', 'report'), 2577), (('i', 'have', 'been'), 2537), (('i', 'received', 'a'), 2517), (('on', 'my', 'credit'), 2444), (('i', 'called', 'chase'), 2399), (('jp', 'morgan', 'chase'), 2208), (('my', 'credit', 'card'), 2157), (('told', 'me', 'that'), 2087)]\n"
     ]
    }
   ],
   "source": [
    "#Print the top 10 words in the trigram frequency\n",
    "print(trigram_frequency.most_common(10))"
   ]
  },
  {
   "cell_type": "markdown",
   "metadata": {
    "id": "yUXzFji0JrF_"
   },
   "source": [
    "## The personal details of customer has been masked in the dataset with xxxx. Let's remove the masked text as this will be of no use for our analysis"
   ]
  },
  {
   "cell_type": "code",
   "execution_count": 23,
   "metadata": {
    "id": "wKda-a_IJrF_"
   },
   "outputs": [],
   "source": [
    "for x_stop in words_with_xx:\n",
    "    df_clean['Complaint_clean'] = df_clean['Complaint_clean'].str.replace(x_stop,'')"
   ]
  },
  {
   "cell_type": "code",
   "execution_count": 24,
   "metadata": {
    "id": "9UIFk8fQJrF_"
   },
   "outputs": [
    {
     "data": {
      "text/html": [
       "<div>\n",
       "<style scoped>\n",
       "    .dataframe tbody tr th:only-of-type {\n",
       "        vertical-align: middle;\n",
       "    }\n",
       "\n",
       "    .dataframe tbody tr th {\n",
       "        vertical-align: top;\n",
       "    }\n",
       "\n",
       "    .dataframe thead th {\n",
       "        text-align: right;\n",
       "    }\n",
       "</style>\n",
       "<table border=\"1\" class=\"dataframe\">\n",
       "  <thead>\n",
       "    <tr style=\"text-align: right;\">\n",
       "      <th></th>\n",
       "      <th>complaint_text</th>\n",
       "      <th>lemmatized_complaint</th>\n",
       "      <th>pos_tags</th>\n",
       "      <th>Complaint_clean</th>\n",
       "    </tr>\n",
       "  </thead>\n",
       "  <tbody>\n",
       "    <tr>\n",
       "      <th>1</th>\n",
       "      <td>good morning my name is xxxx xxxx and i apprec...</td>\n",
       "      <td>[good, morning, my, name, is, xxxx, xxxx, and,...</td>\n",
       "      <td>[ADJ, NOUN, PRON, NOUN, AUX, PROPN, PROPN, CCO...</td>\n",
       "      <td>good morning my name is   and i appreciate it ...</td>\n",
       "    </tr>\n",
       "    <tr>\n",
       "      <th>2</th>\n",
       "      <td>i upgraded my xxxx xxxx card in xx xx 2018 and...</td>\n",
       "      <td>[i, upgraded, my, xxxx, xxxx, card, in, xx, xx...</td>\n",
       "      <td>[PRON, VERB, PRON, PROPN, NOUN, NOUN, ADP, PRO...</td>\n",
       "      <td>i upgraded my   card in   2018 and was told by...</td>\n",
       "    </tr>\n",
       "    <tr>\n",
       "      <th>10</th>\n",
       "      <td>chase card was reported on xx xx 2019  however...</td>\n",
       "      <td>[chase, card, wa, reported, on, xx, xx, 2019, ...</td>\n",
       "      <td>[PROPN, PROPN, AUX, VERB, ADP, PROPN, PROPN, N...</td>\n",
       "      <td>chase card was reported on   2019  however  fr...</td>\n",
       "    </tr>\n",
       "    <tr>\n",
       "      <th>11</th>\n",
       "      <td>on xx xx 2018  while trying to book a xxxx  xx...</td>\n",
       "      <td>[on, xx, xx, 2018, while, trying, to, book, a,...</td>\n",
       "      <td>[ADP, PROPN, PROPN, NUM, SPACE, SCONJ, VERB, P...</td>\n",
       "      <td>on   2018  while trying to book a     ticket  ...</td>\n",
       "    </tr>\n",
       "    <tr>\n",
       "      <th>14</th>\n",
       "      <td>my grand son give me check for   1600 00  i de...</td>\n",
       "      <td>[my, grand, son, give, me, check, for, 1600, 0...</td>\n",
       "      <td>[PRON, ADJ, NOUN, VERB, PRON, VERB, ADP, SPACE...</td>\n",
       "      <td>my grand son give me check for   1600 00  i de...</td>\n",
       "    </tr>\n",
       "    <tr>\n",
       "      <th>...</th>\n",
       "      <td>...</td>\n",
       "      <td>...</td>\n",
       "      <td>...</td>\n",
       "      <td>...</td>\n",
       "    </tr>\n",
       "    <tr>\n",
       "      <th>78303</th>\n",
       "      <td>after being a chase card customer for well ove...</td>\n",
       "      <td>[after, being, a, chase, card, customer, for, ...</td>\n",
       "      <td>[ADP, VERB, DET, NOUN, NOUN, NOUN, ADP, ADV, A...</td>\n",
       "      <td>after being a chase card customer for well ove...</td>\n",
       "    </tr>\n",
       "    <tr>\n",
       "      <th>78309</th>\n",
       "      <td>on wednesday  xx xx xxxx i called chas  my xxx...</td>\n",
       "      <td>[on, wednesday, xx, xx, xxxx, i, called, chas,...</td>\n",
       "      <td>[ADP, PROPN, SPACE, NUM, NUM, NOUN, PRON, VERB...</td>\n",
       "      <td>on wednesday     i called chas  my   visa cred...</td>\n",
       "    </tr>\n",
       "    <tr>\n",
       "      <th>78310</th>\n",
       "      <td>i am not familiar with xxxx pay and did not un...</td>\n",
       "      <td>[i, am, not, familiar, with, xxxx, pay, and, d...</td>\n",
       "      <td>[PRON, AUX, PART, ADJ, ADP, ADJ, NOUN, CCONJ, ...</td>\n",
       "      <td>i am not familiar with  pay and did not unders...</td>\n",
       "    </tr>\n",
       "    <tr>\n",
       "      <th>78311</th>\n",
       "      <td>i have had flawless credit for 30 yrs  i ve ha...</td>\n",
       "      <td>[i, have, had, flawless, credit, for, 30, yr, ...</td>\n",
       "      <td>[PRON, AUX, VERB, ADJ, NOUN, ADP, NUM, NOUN, S...</td>\n",
       "      <td>i have had flawless credit for 30 yrs  i ve ha...</td>\n",
       "    </tr>\n",
       "    <tr>\n",
       "      <th>78312</th>\n",
       "      <td>roughly 10  years ago i closed out my accounts...</td>\n",
       "      <td>[roughly, 10, year, ago, i, closed, out, my, a...</td>\n",
       "      <td>[ADV, NUM, SPACE, NOUN, ADV, PRON, VERB, ADP, ...</td>\n",
       "      <td>roughly 10  years ago i closed out my accounts...</td>\n",
       "    </tr>\n",
       "  </tbody>\n",
       "</table>\n",
       "<p>21072 rows × 4 columns</p>\n",
       "</div>"
      ],
      "text/plain": [
       "                                          complaint_text  \\\n",
       "1      good morning my name is xxxx xxxx and i apprec...   \n",
       "2      i upgraded my xxxx xxxx card in xx xx 2018 and...   \n",
       "10     chase card was reported on xx xx 2019  however...   \n",
       "11     on xx xx 2018  while trying to book a xxxx  xx...   \n",
       "14     my grand son give me check for   1600 00  i de...   \n",
       "...                                                  ...   \n",
       "78303  after being a chase card customer for well ove...   \n",
       "78309  on wednesday  xx xx xxxx i called chas  my xxx...   \n",
       "78310  i am not familiar with xxxx pay and did not un...   \n",
       "78311  i have had flawless credit for 30 yrs  i ve ha...   \n",
       "78312  roughly 10  years ago i closed out my accounts...   \n",
       "\n",
       "                                    lemmatized_complaint  \\\n",
       "1      [good, morning, my, name, is, xxxx, xxxx, and,...   \n",
       "2      [i, upgraded, my, xxxx, xxxx, card, in, xx, xx...   \n",
       "10     [chase, card, wa, reported, on, xx, xx, 2019, ...   \n",
       "11     [on, xx, xx, 2018, while, trying, to, book, a,...   \n",
       "14     [my, grand, son, give, me, check, for, 1600, 0...   \n",
       "...                                                  ...   \n",
       "78303  [after, being, a, chase, card, customer, for, ...   \n",
       "78309  [on, wednesday, xx, xx, xxxx, i, called, chas,...   \n",
       "78310  [i, am, not, familiar, with, xxxx, pay, and, d...   \n",
       "78311  [i, have, had, flawless, credit, for, 30, yr, ...   \n",
       "78312  [roughly, 10, year, ago, i, closed, out, my, a...   \n",
       "\n",
       "                                                pos_tags  \\\n",
       "1      [ADJ, NOUN, PRON, NOUN, AUX, PROPN, PROPN, CCO...   \n",
       "2      [PRON, VERB, PRON, PROPN, NOUN, NOUN, ADP, PRO...   \n",
       "10     [PROPN, PROPN, AUX, VERB, ADP, PROPN, PROPN, N...   \n",
       "11     [ADP, PROPN, PROPN, NUM, SPACE, SCONJ, VERB, P...   \n",
       "14     [PRON, ADJ, NOUN, VERB, PRON, VERB, ADP, SPACE...   \n",
       "...                                                  ...   \n",
       "78303  [ADP, VERB, DET, NOUN, NOUN, NOUN, ADP, ADV, A...   \n",
       "78309  [ADP, PROPN, SPACE, NUM, NUM, NOUN, PRON, VERB...   \n",
       "78310  [PRON, AUX, PART, ADJ, ADP, ADJ, NOUN, CCONJ, ...   \n",
       "78311  [PRON, AUX, VERB, ADJ, NOUN, ADP, NUM, NOUN, S...   \n",
       "78312  [ADV, NUM, SPACE, NOUN, ADV, PRON, VERB, ADP, ...   \n",
       "\n",
       "                                         Complaint_clean  \n",
       "1      good morning my name is   and i appreciate it ...  \n",
       "2      i upgraded my   card in   2018 and was told by...  \n",
       "10     chase card was reported on   2019  however  fr...  \n",
       "11     on   2018  while trying to book a     ticket  ...  \n",
       "14     my grand son give me check for   1600 00  i de...  \n",
       "...                                                  ...  \n",
       "78303  after being a chase card customer for well ove...  \n",
       "78309  on wednesday     i called chas  my   visa cred...  \n",
       "78310  i am not familiar with  pay and did not unders...  \n",
       "78311  i have had flawless credit for 30 yrs  i ve ha...  \n",
       "78312  roughly 10  years ago i closed out my accounts...  \n",
       "\n",
       "[21072 rows x 4 columns]"
      ]
     },
     "execution_count": 24,
     "metadata": {},
     "output_type": "execute_result"
    }
   ],
   "source": [
    "#All masked texts has been removed\n",
    "df_clean"
   ]
  },
  {
   "cell_type": "markdown",
   "metadata": {
    "id": "k-I0k0QtJrGA"
   },
   "source": [
    "## Feature Extraction\n",
    "Convert the raw texts to a matrix of TF-IDF features\n",
    "\n",
    "**max_df** is used for removing terms that appear too frequently, also known as \"corpus-specific stop words\"\n",
    "max_df = 0.95 means \"ignore terms that appear in more than 95% of the complaints\"\n",
    "\n",
    "**min_df** is used for removing terms that appear too infrequently\n",
    "min_df = 2 means \"ignore terms that appear in less than 2 complaints\""
   ]
  },
  {
   "cell_type": "code",
   "execution_count": 25,
   "metadata": {
    "id": "Y8fGwaCPJrGA"
   },
   "outputs": [
    {
     "name": "stdout",
     "output_type": "stream",
     "text": [
      "  (0, 930)\t0.1923248916865412\n",
      "  (0, 13910)\t0.19242701330324916\n",
      "  (0, 757)\t0.05997438162764374\n",
      "  (0, 3410)\t0.13839969823652942\n",
      "  (0, 7421)\t0.09339161312576438\n",
      "  (0, 7998)\t0.10881792996153429\n",
      "  (0, 12052)\t0.13172267364851206\n",
      "  (0, 2984)\t0.18543717316234443\n",
      "  (0, 1603)\t0.19092310304650667\n",
      "  (0, 9032)\t0.11543624181557932\n",
      "  (0, 8497)\t0.12497356642200796\n",
      "  (0, 11207)\t0.15349787887628272\n",
      "  (0, 7569)\t0.14308207074908963\n",
      "  (0, 14909)\t0.22147257423286973\n",
      "  (0, 715)\t0.22326211811734678\n",
      "  (0, 13176)\t0.12543201247915411\n",
      "  (0, 12497)\t0.09351461069182607\n",
      "  (0, 14984)\t0.18569356198447312\n",
      "  (0, 3940)\t0.4089486025554494\n",
      "  (0, 1490)\t0.286899346856158\n",
      "  (0, 15485)\t0.1739062237887583\n",
      "  (0, 182)\t0.15364597014644713\n",
      "  (0, 12539)\t0.1413221272673088\n",
      "  (0, 2478)\t0.22586801595604936\n",
      "  (0, 1818)\t0.13492506173336014\n",
      "  :\t:\n",
      "  (21071, 8263)\t0.07509763811814527\n",
      "  (21071, 11201)\t0.05406954091817565\n",
      "  (21071, 15498)\t0.21738922321683504\n",
      "  (21071, 9966)\t0.2503342101115581\n",
      "  (21071, 2904)\t0.2631534170671738\n",
      "  (21071, 8065)\t0.16023935722488056\n",
      "  (21071, 8153)\t0.09747593599299395\n",
      "  (21071, 13182)\t0.08561851895252577\n",
      "  (21071, 12532)\t0.07345445071229938\n",
      "  (21071, 3846)\t0.07096684026665488\n",
      "  (21071, 9049)\t0.09401403893397679\n",
      "  (21071, 9951)\t0.06541863375439046\n",
      "  (21071, 9219)\t0.07621403034559492\n",
      "  (21071, 9812)\t0.20616636365830304\n",
      "  (21071, 2905)\t0.14146275020628202\n",
      "  (21071, 11707)\t0.06838608650454542\n",
      "  (21071, 7137)\t0.08309291371845559\n",
      "  (21071, 0)\t0.09311546041014462\n",
      "  (21071, 3729)\t0.0877095643782547\n",
      "  (21071, 9622)\t0.09103458631944447\n",
      "  (21071, 4358)\t0.09998087135208639\n",
      "  (21071, 14086)\t0.05349126614294821\n",
      "  (21071, 757)\t0.040769518200575124\n",
      "  (21071, 1818)\t0.09171965780663377\n",
      "  (21071, 2703)\t0.06055096288384694\n"
     ]
    }
   ],
   "source": [
    "#Write your code here to initialise the TfidfVectorizer \n",
    "\n",
    "vectorizer = TfidfVectorizer(stop_words='english', max_df=0.95, min_df=2)\n",
    "tfidf_model = vectorizer.fit_transform(df_clean.Complaint_clean.values)\n",
    "print(tfidf_model)"
   ]
  },
  {
   "cell_type": "markdown",
   "metadata": {
    "id": "yYzD85nTJrGA"
   },
   "source": [
    "#### Create a document term matrix using fit_transform\n",
    "\n",
    "The contents of a document term matrix are tuples of (complaint_id,token_id) tf-idf score:\n",
    "The tuples that are not there have a tf-idf score of 0"
   ]
  },
  {
   "cell_type": "code",
   "execution_count": 26,
   "metadata": {
    "id": "ffzdDpp_JrGB"
   },
   "outputs": [
    {
     "data": {
      "text/html": [
       "<div>\n",
       "<style scoped>\n",
       "    .dataframe tbody tr th:only-of-type {\n",
       "        vertical-align: middle;\n",
       "    }\n",
       "\n",
       "    .dataframe tbody tr th {\n",
       "        vertical-align: top;\n",
       "    }\n",
       "\n",
       "    .dataframe thead th {\n",
       "        text-align: right;\n",
       "    }\n",
       "</style>\n",
       "<table border=\"1\" class=\"dataframe\">\n",
       "  <thead>\n",
       "    <tr style=\"text-align: right;\">\n",
       "      <th></th>\n",
       "      <th>00</th>\n",
       "      <th>000</th>\n",
       "      <th>001</th>\n",
       "      <th>01</th>\n",
       "      <th>0111</th>\n",
       "      <th>02</th>\n",
       "      <th>03</th>\n",
       "      <th>04</th>\n",
       "      <th>05</th>\n",
       "      <th>06</th>\n",
       "      <th>...</th>\n",
       "      <th>zero</th>\n",
       "      <th>zeroed</th>\n",
       "      <th>zeros</th>\n",
       "      <th>zilch</th>\n",
       "      <th>zip</th>\n",
       "      <th>zipcode</th>\n",
       "      <th>zombie</th>\n",
       "      <th>zone</th>\n",
       "      <th>zones</th>\n",
       "      <th>zoom</th>\n",
       "    </tr>\n",
       "  </thead>\n",
       "  <tbody>\n",
       "    <tr>\n",
       "      <th>0</th>\n",
       "      <td>0.000000</td>\n",
       "      <td>0.0</td>\n",
       "      <td>0.0</td>\n",
       "      <td>0.0</td>\n",
       "      <td>0.0</td>\n",
       "      <td>0.0</td>\n",
       "      <td>0.0</td>\n",
       "      <td>0.0</td>\n",
       "      <td>0.0</td>\n",
       "      <td>0.0</td>\n",
       "      <td>...</td>\n",
       "      <td>0.0</td>\n",
       "      <td>0.0</td>\n",
       "      <td>0.0</td>\n",
       "      <td>0.0</td>\n",
       "      <td>0.0</td>\n",
       "      <td>0.0</td>\n",
       "      <td>0.0</td>\n",
       "      <td>0.0</td>\n",
       "      <td>0.0</td>\n",
       "      <td>0.0</td>\n",
       "    </tr>\n",
       "    <tr>\n",
       "      <th>1</th>\n",
       "      <td>0.000000</td>\n",
       "      <td>0.0</td>\n",
       "      <td>0.0</td>\n",
       "      <td>0.0</td>\n",
       "      <td>0.0</td>\n",
       "      <td>0.0</td>\n",
       "      <td>0.0</td>\n",
       "      <td>0.0</td>\n",
       "      <td>0.0</td>\n",
       "      <td>0.0</td>\n",
       "      <td>...</td>\n",
       "      <td>0.0</td>\n",
       "      <td>0.0</td>\n",
       "      <td>0.0</td>\n",
       "      <td>0.0</td>\n",
       "      <td>0.0</td>\n",
       "      <td>0.0</td>\n",
       "      <td>0.0</td>\n",
       "      <td>0.0</td>\n",
       "      <td>0.0</td>\n",
       "      <td>0.0</td>\n",
       "    </tr>\n",
       "    <tr>\n",
       "      <th>2</th>\n",
       "      <td>0.000000</td>\n",
       "      <td>0.0</td>\n",
       "      <td>0.0</td>\n",
       "      <td>0.0</td>\n",
       "      <td>0.0</td>\n",
       "      <td>0.0</td>\n",
       "      <td>0.0</td>\n",
       "      <td>0.0</td>\n",
       "      <td>0.0</td>\n",
       "      <td>0.0</td>\n",
       "      <td>...</td>\n",
       "      <td>0.0</td>\n",
       "      <td>0.0</td>\n",
       "      <td>0.0</td>\n",
       "      <td>0.0</td>\n",
       "      <td>0.0</td>\n",
       "      <td>0.0</td>\n",
       "      <td>0.0</td>\n",
       "      <td>0.0</td>\n",
       "      <td>0.0</td>\n",
       "      <td>0.0</td>\n",
       "    </tr>\n",
       "    <tr>\n",
       "      <th>3</th>\n",
       "      <td>0.033585</td>\n",
       "      <td>0.0</td>\n",
       "      <td>0.0</td>\n",
       "      <td>0.0</td>\n",
       "      <td>0.0</td>\n",
       "      <td>0.0</td>\n",
       "      <td>0.0</td>\n",
       "      <td>0.0</td>\n",
       "      <td>0.0</td>\n",
       "      <td>0.0</td>\n",
       "      <td>...</td>\n",
       "      <td>0.0</td>\n",
       "      <td>0.0</td>\n",
       "      <td>0.0</td>\n",
       "      <td>0.0</td>\n",
       "      <td>0.0</td>\n",
       "      <td>0.0</td>\n",
       "      <td>0.0</td>\n",
       "      <td>0.0</td>\n",
       "      <td>0.0</td>\n",
       "      <td>0.0</td>\n",
       "    </tr>\n",
       "    <tr>\n",
       "      <th>4</th>\n",
       "      <td>0.049159</td>\n",
       "      <td>0.0</td>\n",
       "      <td>0.0</td>\n",
       "      <td>0.0</td>\n",
       "      <td>0.0</td>\n",
       "      <td>0.0</td>\n",
       "      <td>0.0</td>\n",
       "      <td>0.0</td>\n",
       "      <td>0.0</td>\n",
       "      <td>0.0</td>\n",
       "      <td>...</td>\n",
       "      <td>0.0</td>\n",
       "      <td>0.0</td>\n",
       "      <td>0.0</td>\n",
       "      <td>0.0</td>\n",
       "      <td>0.0</td>\n",
       "      <td>0.0</td>\n",
       "      <td>0.0</td>\n",
       "      <td>0.0</td>\n",
       "      <td>0.0</td>\n",
       "      <td>0.0</td>\n",
       "    </tr>\n",
       "  </tbody>\n",
       "</table>\n",
       "<p>5 rows × 15544 columns</p>\n",
       "</div>"
      ],
      "text/plain": [
       "         00  000  001   01  0111   02   03   04   05   06  ...  zero  zeroed  \\\n",
       "0  0.000000  0.0  0.0  0.0   0.0  0.0  0.0  0.0  0.0  0.0  ...   0.0     0.0   \n",
       "1  0.000000  0.0  0.0  0.0   0.0  0.0  0.0  0.0  0.0  0.0  ...   0.0     0.0   \n",
       "2  0.000000  0.0  0.0  0.0   0.0  0.0  0.0  0.0  0.0  0.0  ...   0.0     0.0   \n",
       "3  0.033585  0.0  0.0  0.0   0.0  0.0  0.0  0.0  0.0  0.0  ...   0.0     0.0   \n",
       "4  0.049159  0.0  0.0  0.0   0.0  0.0  0.0  0.0  0.0  0.0  ...   0.0     0.0   \n",
       "\n",
       "   zeros  zilch  zip  zipcode  zombie  zone  zones  zoom  \n",
       "0    0.0    0.0  0.0      0.0     0.0   0.0    0.0   0.0  \n",
       "1    0.0    0.0  0.0      0.0     0.0   0.0    0.0   0.0  \n",
       "2    0.0    0.0  0.0      0.0     0.0   0.0    0.0   0.0  \n",
       "3    0.0    0.0  0.0      0.0     0.0   0.0    0.0   0.0  \n",
       "4    0.0    0.0  0.0      0.0     0.0   0.0    0.0   0.0  \n",
       "\n",
       "[5 rows x 15544 columns]"
      ]
     },
     "execution_count": 26,
     "metadata": {},
     "output_type": "execute_result"
    }
   ],
   "source": [
    "#Write your code here to create the Document Term Matrix by transforming the complaints column present in df_clean.\n",
    "doc_term_matrix = pd.DataFrame(tfidf_model.toarray(), columns = vectorizer.get_feature_names())\n",
    "doc_term_matrix.head()"
   ]
  },
  {
   "cell_type": "markdown",
   "metadata": {
    "id": "7Q9lwvNEJrGB"
   },
   "source": [
    "## Topic Modelling using NMF\n",
    "\n",
    "Non-Negative Matrix Factorization (NMF) is an unsupervised technique so there are no labeling of topics that the model will be trained on. The way it works is that, NMF decomposes (or factorizes) high-dimensional vectors into a lower-dimensional representation. These lower-dimensional vectors are non-negative which also means their coefficients are non-negative.\n",
    "\n",
    "In this task you have to perform the following:\n",
    "\n",
    "* Find the best number of clusters \n",
    "* Apply the best number to create word clusters\n",
    "* Inspect & validate the correction of each cluster wrt the complaints \n",
    "* Correct the labels if needed \n",
    "* Map the clusters to topics/cluster names"
   ]
  },
  {
   "cell_type": "code",
   "execution_count": 27,
   "metadata": {
    "id": "amLT4omWJrGB"
   },
   "outputs": [],
   "source": [
    "from sklearn.decomposition import NMF"
   ]
  },
  {
   "cell_type": "markdown",
   "metadata": {
    "id": "0wYR1xUTJrGD"
   },
   "source": [
    "## Manual Topic Modeling\n",
    "You need to do take the trial & error approach to find the best num of topics for your NMF model.\n",
    "\n",
    "The only parameter that is required is the number of components i.e. the number of topics we want. This is the most crucial step in the whole topic modeling process and will greatly affect how good your final topics are."
   ]
  },
  {
   "cell_type": "code",
   "execution_count": 28,
   "metadata": {
    "id": "sgd2A6bhJrGD"
   },
   "outputs": [],
   "source": [
    "#Load your nmf_model with the n_components i.e 5\n",
    "num_topics = 5\n",
    "\n",
    "#keep the random_state =40\n",
    "nmf_model = NMF(n_components=num_topics, random_state=40)"
   ]
  },
  {
   "cell_type": "code",
   "execution_count": 29,
   "metadata": {
    "id": "VPMDYbt_JrGE"
   },
   "outputs": [
    {
     "name": "stderr",
     "output_type": "stream",
     "text": [
      "C:\\Users\\Namrata Thakur\\anaconda3\\envs\\python39\\lib\\site-packages\\sklearn\\decomposition\\_nmf.py:312: FutureWarning:\n",
      "\n",
      "The 'init' value, when 'init=None' and n_components is less than n_samples and n_features, will be changed from 'nndsvd' to 'nndsvda' in 1.1 (renaming of 0.26).\n",
      "\n"
     ]
    },
    {
     "name": "stdout",
     "output_type": "stream",
     "text": [
      "Total number of final features :  15544\n"
     ]
    }
   ],
   "source": [
    "nmf_model.fit(doc_term_matrix)\n",
    "print('Total number of final features : ',len(vectorizer.get_feature_names()))"
   ]
  },
  {
   "cell_type": "code",
   "execution_count": 30,
   "metadata": {
    "id": "16kRfat5JrGE"
   },
   "outputs": [
    {
     "data": {
      "text/html": [
       "<div>\n",
       "<style scoped>\n",
       "    .dataframe tbody tr th:only-of-type {\n",
       "        vertical-align: middle;\n",
       "    }\n",
       "\n",
       "    .dataframe tbody tr th {\n",
       "        vertical-align: top;\n",
       "    }\n",
       "\n",
       "    .dataframe thead th {\n",
       "        text-align: right;\n",
       "    }\n",
       "</style>\n",
       "<table border=\"1\" class=\"dataframe\">\n",
       "  <thead>\n",
       "    <tr style=\"text-align: right;\">\n",
       "      <th></th>\n",
       "      <th>Word 1</th>\n",
       "      <th>Word 2</th>\n",
       "      <th>Word 3</th>\n",
       "      <th>Word 4</th>\n",
       "      <th>Word 5</th>\n",
       "      <th>Word 6</th>\n",
       "      <th>Word 7</th>\n",
       "      <th>Word 8</th>\n",
       "      <th>Word 9</th>\n",
       "      <th>Word 10</th>\n",
       "      <th>Word 11</th>\n",
       "      <th>Word 12</th>\n",
       "      <th>Word 13</th>\n",
       "      <th>Word 14</th>\n",
       "      <th>Word 15</th>\n",
       "    </tr>\n",
       "  </thead>\n",
       "  <tbody>\n",
       "    <tr>\n",
       "      <th>Topic 1</th>\n",
       "      <td>account</td>\n",
       "      <td>bank</td>\n",
       "      <td>check</td>\n",
       "      <td>chase</td>\n",
       "      <td>money</td>\n",
       "      <td>funds</td>\n",
       "      <td>checking</td>\n",
       "      <td>closed</td>\n",
       "      <td>deposit</td>\n",
       "      <td>branch</td>\n",
       "      <td>told</td>\n",
       "      <td>accounts</td>\n",
       "      <td>00</td>\n",
       "      <td>deposited</td>\n",
       "      <td>said</td>\n",
       "    </tr>\n",
       "    <tr>\n",
       "      <th>Topic 2</th>\n",
       "      <td>credit</td>\n",
       "      <td>card</td>\n",
       "      <td>report</td>\n",
       "      <td>inquiry</td>\n",
       "      <td>chase</td>\n",
       "      <td>inquiries</td>\n",
       "      <td>cards</td>\n",
       "      <td>hard</td>\n",
       "      <td>reporting</td>\n",
       "      <td>score</td>\n",
       "      <td>accounts</td>\n",
       "      <td>account</td>\n",
       "      <td>closed</td>\n",
       "      <td>removed</td>\n",
       "      <td>debt</td>\n",
       "    </tr>\n",
       "    <tr>\n",
       "      <th>Topic 3</th>\n",
       "      <td>loan</td>\n",
       "      <td>mortgage</td>\n",
       "      <td>chase</td>\n",
       "      <td>home</td>\n",
       "      <td>modification</td>\n",
       "      <td>property</td>\n",
       "      <td>foreclosure</td>\n",
       "      <td>payments</td>\n",
       "      <td>house</td>\n",
       "      <td>sale</td>\n",
       "      <td>bank</td>\n",
       "      <td>morgan</td>\n",
       "      <td>years</td>\n",
       "      <td>letter</td>\n",
       "      <td>jp</td>\n",
       "    </tr>\n",
       "    <tr>\n",
       "      <th>Topic 4</th>\n",
       "      <td>card</td>\n",
       "      <td>chase</td>\n",
       "      <td>00</td>\n",
       "      <td>charges</td>\n",
       "      <td>charge</td>\n",
       "      <td>dispute</td>\n",
       "      <td>fraud</td>\n",
       "      <td>called</td>\n",
       "      <td>received</td>\n",
       "      <td>did</td>\n",
       "      <td>transaction</td>\n",
       "      <td>claim</td>\n",
       "      <td>merchant</td>\n",
       "      <td>told</td>\n",
       "      <td>refund</td>\n",
       "    </tr>\n",
       "    <tr>\n",
       "      <th>Topic 5</th>\n",
       "      <td>payment</td>\n",
       "      <td>late</td>\n",
       "      <td>payments</td>\n",
       "      <td>balance</td>\n",
       "      <td>00</td>\n",
       "      <td>paid</td>\n",
       "      <td>pay</td>\n",
       "      <td>fees</td>\n",
       "      <td>fee</td>\n",
       "      <td>month</td>\n",
       "      <td>statement</td>\n",
       "      <td>account</td>\n",
       "      <td>auto</td>\n",
       "      <td>charged</td>\n",
       "      <td>monthly</td>\n",
       "    </tr>\n",
       "  </tbody>\n",
       "</table>\n",
       "</div>"
      ],
      "text/plain": [
       "          Word 1    Word 2    Word 3   Word 4        Word 5     Word 6  \\\n",
       "Topic 1  account      bank     check    chase         money      funds   \n",
       "Topic 2   credit      card    report  inquiry         chase  inquiries   \n",
       "Topic 3     loan  mortgage     chase     home  modification   property   \n",
       "Topic 4     card     chase        00  charges        charge    dispute   \n",
       "Topic 5  payment      late  payments  balance            00       paid   \n",
       "\n",
       "              Word 7    Word 8     Word 9 Word 10      Word 11   Word 12  \\\n",
       "Topic 1     checking    closed    deposit  branch         told  accounts   \n",
       "Topic 2        cards      hard  reporting   score     accounts   account   \n",
       "Topic 3  foreclosure  payments      house    sale         bank    morgan   \n",
       "Topic 4        fraud    called   received     did  transaction     claim   \n",
       "Topic 5          pay      fees        fee   month    statement   account   \n",
       "\n",
       "          Word 13    Word 14  Word 15  \n",
       "Topic 1        00  deposited     said  \n",
       "Topic 2    closed    removed     debt  \n",
       "Topic 3     years     letter       jp  \n",
       "Topic 4  merchant       told   refund  \n",
       "Topic 5      auto    charged  monthly  "
      ]
     },
     "execution_count": 30,
     "metadata": {},
     "output_type": "execute_result"
    }
   ],
   "source": [
    "#Print the Top15 words for each of the topics\n",
    "W = nmf_model.transform(doc_term_matrix)  # Document-topic matrix\n",
    "H = nmf_model.components_ \n",
    "words = np.array(vectorizer.get_feature_names())\n",
    "topic_words = pd.DataFrame(np.zeros((num_topics, 15)), index=[f'Topic {i + 1}' for i in range(num_topics)],\n",
    "                           columns=[f'Word {i + 1}' for i in range(15)]).astype(str)\n",
    "for i in range(num_topics):\n",
    "    ix = H[i].argsort()[::-1][:15]\n",
    "    topic_words.iloc[i] = words[ix]\n",
    "\n",
    "topic_words"
   ]
  },
  {
   "cell_type": "code",
   "execution_count": 31,
   "metadata": {
    "id": "0OIT7LmFJrGF"
   },
   "outputs": [
    {
     "name": "stderr",
     "output_type": "stream",
     "text": [
      "C:\\Users\\Namrata Thakur\\anaconda3\\envs\\python39\\lib\\site-packages\\pandas\\core\\frame.py:3607: SettingWithCopyWarning:\n",
      "\n",
      "\n",
      "A value is trying to be set on a copy of a slice from a DataFrame.\n",
      "Try using .loc[row_indexer,col_indexer] = value instead\n",
      "\n",
      "See the caveats in the documentation: https://pandas.pydata.org/pandas-docs/stable/user_guide/indexing.html#returning-a-view-versus-a-copy\n",
      "\n"
     ]
    }
   ],
   "source": [
    "#Create the best topic for each complaint in terms of integer value 0,1,2,3 & 4\n",
    "\n",
    "df_clean['Topic'] = W.argmax(axis=1)"
   ]
  },
  {
   "cell_type": "code",
   "execution_count": 32,
   "metadata": {},
   "outputs": [
    {
     "data": {
      "text/plain": [
       "(21072, 5)"
      ]
     },
     "execution_count": 32,
     "metadata": {},
     "output_type": "execute_result"
    }
   ],
   "source": [
    "W.shape"
   ]
  },
  {
   "cell_type": "code",
   "execution_count": 33,
   "metadata": {},
   "outputs": [
    {
     "data": {
      "text/plain": [
       "array([2, 3, 1, 0, 4], dtype=int64)"
      ]
     },
     "execution_count": 33,
     "metadata": {},
     "output_type": "execute_result"
    }
   ],
   "source": [
    "df_clean[\"Topic\"].unique()"
   ]
  },
  {
   "cell_type": "code",
   "execution_count": 34,
   "metadata": {
    "id": "peyYv-ORJrGF"
   },
   "outputs": [
    {
     "data": {
      "text/html": [
       "<div>\n",
       "<style scoped>\n",
       "    .dataframe tbody tr th:only-of-type {\n",
       "        vertical-align: middle;\n",
       "    }\n",
       "\n",
       "    .dataframe tbody tr th {\n",
       "        vertical-align: top;\n",
       "    }\n",
       "\n",
       "    .dataframe thead th {\n",
       "        text-align: right;\n",
       "    }\n",
       "</style>\n",
       "<table border=\"1\" class=\"dataframe\">\n",
       "  <thead>\n",
       "    <tr style=\"text-align: right;\">\n",
       "      <th></th>\n",
       "      <th>complaint_text</th>\n",
       "      <th>lemmatized_complaint</th>\n",
       "      <th>pos_tags</th>\n",
       "      <th>Complaint_clean</th>\n",
       "      <th>Topic</th>\n",
       "    </tr>\n",
       "  </thead>\n",
       "  <tbody>\n",
       "    <tr>\n",
       "      <th>1</th>\n",
       "      <td>good morning my name is xxxx xxxx and i apprec...</td>\n",
       "      <td>[good, morning, my, name, is, xxxx, xxxx, and,...</td>\n",
       "      <td>[ADJ, NOUN, PRON, NOUN, AUX, PROPN, PROPN, CCO...</td>\n",
       "      <td>good morning my name is   and i appreciate it ...</td>\n",
       "      <td>2</td>\n",
       "    </tr>\n",
       "    <tr>\n",
       "      <th>2</th>\n",
       "      <td>i upgraded my xxxx xxxx card in xx xx 2018 and...</td>\n",
       "      <td>[i, upgraded, my, xxxx, xxxx, card, in, xx, xx...</td>\n",
       "      <td>[PRON, VERB, PRON, PROPN, NOUN, NOUN, ADP, PRO...</td>\n",
       "      <td>i upgraded my   card in   2018 and was told by...</td>\n",
       "      <td>3</td>\n",
       "    </tr>\n",
       "    <tr>\n",
       "      <th>10</th>\n",
       "      <td>chase card was reported on xx xx 2019  however...</td>\n",
       "      <td>[chase, card, wa, reported, on, xx, xx, 2019, ...</td>\n",
       "      <td>[PROPN, PROPN, AUX, VERB, ADP, PROPN, PROPN, N...</td>\n",
       "      <td>chase card was reported on   2019  however  fr...</td>\n",
       "      <td>1</td>\n",
       "    </tr>\n",
       "    <tr>\n",
       "      <th>11</th>\n",
       "      <td>on xx xx 2018  while trying to book a xxxx  xx...</td>\n",
       "      <td>[on, xx, xx, 2018, while, trying, to, book, a,...</td>\n",
       "      <td>[ADP, PROPN, PROPN, NUM, SPACE, SCONJ, VERB, P...</td>\n",
       "      <td>on   2018  while trying to book a     ticket  ...</td>\n",
       "      <td>1</td>\n",
       "    </tr>\n",
       "    <tr>\n",
       "      <th>14</th>\n",
       "      <td>my grand son give me check for   1600 00  i de...</td>\n",
       "      <td>[my, grand, son, give, me, check, for, 1600, 0...</td>\n",
       "      <td>[PRON, ADJ, NOUN, VERB, PRON, VERB, ADP, SPACE...</td>\n",
       "      <td>my grand son give me check for   1600 00  i de...</td>\n",
       "      <td>0</td>\n",
       "    </tr>\n",
       "  </tbody>\n",
       "</table>\n",
       "</div>"
      ],
      "text/plain": [
       "                                       complaint_text  \\\n",
       "1   good morning my name is xxxx xxxx and i apprec...   \n",
       "2   i upgraded my xxxx xxxx card in xx xx 2018 and...   \n",
       "10  chase card was reported on xx xx 2019  however...   \n",
       "11  on xx xx 2018  while trying to book a xxxx  xx...   \n",
       "14  my grand son give me check for   1600 00  i de...   \n",
       "\n",
       "                                 lemmatized_complaint  \\\n",
       "1   [good, morning, my, name, is, xxxx, xxxx, and,...   \n",
       "2   [i, upgraded, my, xxxx, xxxx, card, in, xx, xx...   \n",
       "10  [chase, card, wa, reported, on, xx, xx, 2019, ...   \n",
       "11  [on, xx, xx, 2018, while, trying, to, book, a,...   \n",
       "14  [my, grand, son, give, me, check, for, 1600, 0...   \n",
       "\n",
       "                                             pos_tags  \\\n",
       "1   [ADJ, NOUN, PRON, NOUN, AUX, PROPN, PROPN, CCO...   \n",
       "2   [PRON, VERB, PRON, PROPN, NOUN, NOUN, ADP, PRO...   \n",
       "10  [PROPN, PROPN, AUX, VERB, ADP, PROPN, PROPN, N...   \n",
       "11  [ADP, PROPN, PROPN, NUM, SPACE, SCONJ, VERB, P...   \n",
       "14  [PRON, ADJ, NOUN, VERB, PRON, VERB, ADP, SPACE...   \n",
       "\n",
       "                                      Complaint_clean  Topic  \n",
       "1   good morning my name is   and i appreciate it ...      2  \n",
       "2   i upgraded my   card in   2018 and was told by...      3  \n",
       "10  chase card was reported on   2019  however  fr...      1  \n",
       "11  on   2018  while trying to book a     ticket  ...      1  \n",
       "14  my grand son give me check for   1600 00  i de...      0  "
      ]
     },
     "execution_count": 34,
     "metadata": {},
     "output_type": "execute_result"
    }
   ],
   "source": [
    "#printing the df_clean with the topic numbers\n",
    "df_clean.head()"
   ]
  },
  {
   "cell_type": "code",
   "execution_count": 35,
   "metadata": {},
   "outputs": [],
   "source": [
    "df_clean.reset_index(inplace=True, drop=True)"
   ]
  },
  {
   "cell_type": "code",
   "execution_count": 36,
   "metadata": {
    "id": "fLh_Gf3nJrGF"
   },
   "outputs": [
    {
     "data": {
      "text/html": [
       "<div>\n",
       "<style scoped>\n",
       "    .dataframe tbody tr th:only-of-type {\n",
       "        vertical-align: middle;\n",
       "    }\n",
       "\n",
       "    .dataframe tbody tr th {\n",
       "        vertical-align: top;\n",
       "    }\n",
       "\n",
       "    .dataframe thead th {\n",
       "        text-align: right;\n",
       "    }\n",
       "</style>\n",
       "<table border=\"1\" class=\"dataframe\">\n",
       "  <thead>\n",
       "    <tr style=\"text-align: right;\">\n",
       "      <th></th>\n",
       "      <th>complaint_text</th>\n",
       "      <th>lemmatized_complaint</th>\n",
       "      <th>pos_tags</th>\n",
       "      <th>Complaint_clean</th>\n",
       "      <th>Topic</th>\n",
       "    </tr>\n",
       "  </thead>\n",
       "  <tbody>\n",
       "    <tr>\n",
       "      <th>0</th>\n",
       "      <td>good morning my name is xxxx xxxx and i apprec...</td>\n",
       "      <td>[good, morning, my, name, is, xxxx, xxxx, and,...</td>\n",
       "      <td>[ADJ, NOUN, PRON, NOUN, AUX, PROPN, PROPN, CCO...</td>\n",
       "      <td>good morning my name is   and i appreciate it ...</td>\n",
       "      <td>2</td>\n",
       "    </tr>\n",
       "    <tr>\n",
       "      <th>1</th>\n",
       "      <td>i upgraded my xxxx xxxx card in xx xx 2018 and...</td>\n",
       "      <td>[i, upgraded, my, xxxx, xxxx, card, in, xx, xx...</td>\n",
       "      <td>[PRON, VERB, PRON, PROPN, NOUN, NOUN, ADP, PRO...</td>\n",
       "      <td>i upgraded my   card in   2018 and was told by...</td>\n",
       "      <td>3</td>\n",
       "    </tr>\n",
       "    <tr>\n",
       "      <th>2</th>\n",
       "      <td>chase card was reported on xx xx 2019  however...</td>\n",
       "      <td>[chase, card, wa, reported, on, xx, xx, 2019, ...</td>\n",
       "      <td>[PROPN, PROPN, AUX, VERB, ADP, PROPN, PROPN, N...</td>\n",
       "      <td>chase card was reported on   2019  however  fr...</td>\n",
       "      <td>1</td>\n",
       "    </tr>\n",
       "    <tr>\n",
       "      <th>3</th>\n",
       "      <td>on xx xx 2018  while trying to book a xxxx  xx...</td>\n",
       "      <td>[on, xx, xx, 2018, while, trying, to, book, a,...</td>\n",
       "      <td>[ADP, PROPN, PROPN, NUM, SPACE, SCONJ, VERB, P...</td>\n",
       "      <td>on   2018  while trying to book a     ticket  ...</td>\n",
       "      <td>1</td>\n",
       "    </tr>\n",
       "    <tr>\n",
       "      <th>4</th>\n",
       "      <td>my grand son give me check for   1600 00  i de...</td>\n",
       "      <td>[my, grand, son, give, me, check, for, 1600, 0...</td>\n",
       "      <td>[PRON, ADJ, NOUN, VERB, PRON, VERB, ADP, SPACE...</td>\n",
       "      <td>my grand son give me check for   1600 00  i de...</td>\n",
       "      <td>0</td>\n",
       "    </tr>\n",
       "  </tbody>\n",
       "</table>\n",
       "</div>"
      ],
      "text/plain": [
       "                                      complaint_text  \\\n",
       "0  good morning my name is xxxx xxxx and i apprec...   \n",
       "1  i upgraded my xxxx xxxx card in xx xx 2018 and...   \n",
       "2  chase card was reported on xx xx 2019  however...   \n",
       "3  on xx xx 2018  while trying to book a xxxx  xx...   \n",
       "4  my grand son give me check for   1600 00  i de...   \n",
       "\n",
       "                                lemmatized_complaint  \\\n",
       "0  [good, morning, my, name, is, xxxx, xxxx, and,...   \n",
       "1  [i, upgraded, my, xxxx, xxxx, card, in, xx, xx...   \n",
       "2  [chase, card, wa, reported, on, xx, xx, 2019, ...   \n",
       "3  [on, xx, xx, 2018, while, trying, to, book, a,...   \n",
       "4  [my, grand, son, give, me, check, for, 1600, 0...   \n",
       "\n",
       "                                            pos_tags  \\\n",
       "0  [ADJ, NOUN, PRON, NOUN, AUX, PROPN, PROPN, CCO...   \n",
       "1  [PRON, VERB, PRON, PROPN, NOUN, NOUN, ADP, PRO...   \n",
       "2  [PROPN, PROPN, AUX, VERB, ADP, PROPN, PROPN, N...   \n",
       "3  [ADP, PROPN, PROPN, NUM, SPACE, SCONJ, VERB, P...   \n",
       "4  [PRON, ADJ, NOUN, VERB, PRON, VERB, ADP, SPACE...   \n",
       "\n",
       "                                     Complaint_clean  Topic  \n",
       "0  good morning my name is   and i appreciate it ...      2  \n",
       "1  i upgraded my   card in   2018 and was told by...      3  \n",
       "2  chase card was reported on   2019  however  fr...      1  \n",
       "3  on   2018  while trying to book a     ticket  ...      1  \n",
       "4  my grand son give me check for   1600 00  i de...      0  "
      ]
     },
     "execution_count": 36,
     "metadata": {},
     "output_type": "execute_result"
    }
   ],
   "source": [
    "df_clean.head()"
   ]
  },
  {
   "cell_type": "code",
   "execution_count": 37,
   "metadata": {
    "id": "aQKpufSPJrGG"
   },
   "outputs": [
    {
     "data": {
      "text/html": [
       "<div>\n",
       "<style scoped>\n",
       "    .dataframe tbody tr th:only-of-type {\n",
       "        vertical-align: middle;\n",
       "    }\n",
       "\n",
       "    .dataframe tbody tr th {\n",
       "        vertical-align: top;\n",
       "    }\n",
       "\n",
       "    .dataframe thead th {\n",
       "        text-align: right;\n",
       "    }\n",
       "</style>\n",
       "<table border=\"1\" class=\"dataframe\">\n",
       "  <thead>\n",
       "    <tr style=\"text-align: right;\">\n",
       "      <th></th>\n",
       "      <th>complaint_text</th>\n",
       "      <th>lemmatized_complaint</th>\n",
       "      <th>pos_tags</th>\n",
       "      <th>Complaint_clean</th>\n",
       "      <th>Topic</th>\n",
       "    </tr>\n",
       "  </thead>\n",
       "  <tbody>\n",
       "    <tr>\n",
       "      <th>12</th>\n",
       "      <td>i opened an account with chase bank on xxxx an...</td>\n",
       "      <td>[i, opened, an, account, with, chase, bank, on...</td>\n",
       "      <td>[PRON, VERB, DET, NOUN, ADP, PROPN, PROPN, ADP...</td>\n",
       "      <td>i opened an account with chase bank on  and us...</td>\n",
       "      <td>0</td>\n",
       "    </tr>\n",
       "    <tr>\n",
       "      <th>4</th>\n",
       "      <td>my grand son give me check for   1600 00  i de...</td>\n",
       "      <td>[my, grand, son, give, me, check, for, 1600, 0...</td>\n",
       "      <td>[PRON, ADJ, NOUN, VERB, PRON, VERB, ADP, SPACE...</td>\n",
       "      <td>my grand son give me check for   1600 00  i de...</td>\n",
       "      <td>0</td>\n",
       "    </tr>\n",
       "    <tr>\n",
       "      <th>6</th>\n",
       "      <td>with out notice j p  morgan chase restricted m...</td>\n",
       "      <td>[with, out, notice, j, p, morgan, chase, restr...</td>\n",
       "      <td>[ADP, ADP, NOUN, PROPN, NOUN, SPACE, NOUN, NOU...</td>\n",
       "      <td>with out notice j p  morgan chase restricted m...</td>\n",
       "      <td>0</td>\n",
       "    </tr>\n",
       "    <tr>\n",
       "      <th>10</th>\n",
       "      <td>mishandling of this account by chase auto and ...</td>\n",
       "      <td>[mishandling, of, this, account, by, chase, au...</td>\n",
       "      <td>[VERB, ADP, DET, NOUN, ADP, PROPN, NOUN, CCONJ...</td>\n",
       "      <td>mishandling of this account by chase auto and</td>\n",
       "      <td>0</td>\n",
       "    </tr>\n",
       "    <tr>\n",
       "      <th>15</th>\n",
       "      <td>i opened the saving account for the   25 00  b...</td>\n",
       "      <td>[i, opened, the, saving, account, for, the, 25...</td>\n",
       "      <td>[PRON, VERB, DET, VERB, NOUN, ADP, DET, SPACE,...</td>\n",
       "      <td>i opened the saving account for the   25 00  b...</td>\n",
       "      <td>0</td>\n",
       "    </tr>\n",
       "    <tr>\n",
       "      <th>2</th>\n",
       "      <td>chase card was reported on xx xx 2019  however...</td>\n",
       "      <td>[chase, card, wa, reported, on, xx, xx, 2019, ...</td>\n",
       "      <td>[PROPN, PROPN, AUX, VERB, ADP, PROPN, PROPN, N...</td>\n",
       "      <td>chase card was reported on   2019  however  fr...</td>\n",
       "      <td>1</td>\n",
       "    </tr>\n",
       "    <tr>\n",
       "      <th>3</th>\n",
       "      <td>on xx xx 2018  while trying to book a xxxx  xx...</td>\n",
       "      <td>[on, xx, xx, 2018, while, trying, to, book, a,...</td>\n",
       "      <td>[ADP, PROPN, PROPN, NUM, SPACE, SCONJ, VERB, P...</td>\n",
       "      <td>on   2018  while trying to book a     ticket  ...</td>\n",
       "      <td>1</td>\n",
       "    </tr>\n",
       "    <tr>\n",
       "      <th>5</th>\n",
       "      <td>can you please remove inquiry</td>\n",
       "      <td>[can, you, please, remove, inquiry]</td>\n",
       "      <td>[AUX, PRON, INTJ, VERB, NOUN]</td>\n",
       "      <td>can you please remove inquiry</td>\n",
       "      <td>1</td>\n",
       "    </tr>\n",
       "    <tr>\n",
       "      <th>9</th>\n",
       "      <td>i have a chase credit card which is incorrectl...</td>\n",
       "      <td>[i, have, a, chase, credit, card, which, is, i...</td>\n",
       "      <td>[PRON, VERB, DET, ADJ, NOUN, NOUN, DET, AUX, A...</td>\n",
       "      <td>i have a chase credit card which is incorrectl...</td>\n",
       "      <td>1</td>\n",
       "    </tr>\n",
       "    <tr>\n",
       "      <th>11</th>\n",
       "      <td>i have reached out to xxxx several times in at...</td>\n",
       "      <td>[i, have, reached, out, to, xxxx, several, tim...</td>\n",
       "      <td>[PRON, AUX, VERB, ADP, ADP, NOUN, ADJ, NOUN, A...</td>\n",
       "      <td>i have reached out to  several times in attemp...</td>\n",
       "      <td>1</td>\n",
       "    </tr>\n",
       "    <tr>\n",
       "      <th>41</th>\n",
       "      <td>my name is xxxx xxxx  i have missed a payment ...</td>\n",
       "      <td>[my, name, is, xxxx, xxxx, i, have, missed, a,...</td>\n",
       "      <td>[PRON, NOUN, AUX, NOUN, NOUN, SPACE, PRON, AUX...</td>\n",
       "      <td>my name is    i have missed a payment in   201...</td>\n",
       "      <td>2</td>\n",
       "    </tr>\n",
       "    <tr>\n",
       "      <th>32</th>\n",
       "      <td>i bought a new xxxx xxxx on xx xx xxxx from xx...</td>\n",
       "      <td>[i, bought, a, new, xxxx, xxxx, on, xx, xx, xx...</td>\n",
       "      <td>[PRON, VERB, DET, ADJ, NOUN, NOUN, ADP, PROPN,...</td>\n",
       "      <td>i bought a new   on    from    in   \\ni paid t...</td>\n",
       "      <td>2</td>\n",
       "    </tr>\n",
       "    <tr>\n",
       "      <th>30</th>\n",
       "      <td>i have wired through one of chase branches in ...</td>\n",
       "      <td>[i, have, wired, through, one, of, chase, bran...</td>\n",
       "      <td>[PRON, AUX, VERB, ADP, NUM, ADP, NOUN, NOUN, A...</td>\n",
       "      <td>i have wired through one of chase branches in ...</td>\n",
       "      <td>2</td>\n",
       "    </tr>\n",
       "    <tr>\n",
       "      <th>23</th>\n",
       "      <td>i have been trying to do a loan modification w...</td>\n",
       "      <td>[i, have, been, trying, to, do, a, loan, modif...</td>\n",
       "      <td>[PRON, AUX, AUX, VERB, PART, VERB, DET, NOUN, ...</td>\n",
       "      <td>i have been trying to do a loan modification w...</td>\n",
       "      <td>2</td>\n",
       "    </tr>\n",
       "    <tr>\n",
       "      <th>0</th>\n",
       "      <td>good morning my name is xxxx xxxx and i apprec...</td>\n",
       "      <td>[good, morning, my, name, is, xxxx, xxxx, and,...</td>\n",
       "      <td>[ADJ, NOUN, PRON, NOUN, AUX, PROPN, PROPN, CCO...</td>\n",
       "      <td>good morning my name is   and i appreciate it ...</td>\n",
       "      <td>2</td>\n",
       "    </tr>\n",
       "    <tr>\n",
       "      <th>13</th>\n",
       "      <td>to whom it may concern  chase bank charged wro...</td>\n",
       "      <td>[to, whom, it, may, concern, chase, bank, char...</td>\n",
       "      <td>[PART, PRON, PRON, AUX, VERB, SPACE, NOUN, NOU...</td>\n",
       "      <td>to whom it may concern  chase bank charged wro...</td>\n",
       "      <td>3</td>\n",
       "    </tr>\n",
       "    <tr>\n",
       "      <th>16</th>\n",
       "      <td>xxxx xxxx a sofa  love seat  table and chairs ...</td>\n",
       "      <td>[xxxx, xxxx, a, sofa, love, seat, table, and, ...</td>\n",
       "      <td>[NOUN, NOUN, DET, NOUN, SPACE, NOUN, NOUN, SPA...</td>\n",
       "      <td>a sofa  love seat  table and chairs and was ...</td>\n",
       "      <td>3</td>\n",
       "    </tr>\n",
       "    <tr>\n",
       "      <th>8</th>\n",
       "      <td>on xxxx xx xx 2019  i made a   300 00  payment...</td>\n",
       "      <td>[on, xxxx, xx, xx, 2019, i, made, a, 300, 00, ...</td>\n",
       "      <td>[ADP, PROPN, PROPN, PROPN, NUM, SPACE, PRON, V...</td>\n",
       "      <td>on    2019  i made a   300 00  payment to an o...</td>\n",
       "      <td>3</td>\n",
       "    </tr>\n",
       "    <tr>\n",
       "      <th>1</th>\n",
       "      <td>i upgraded my xxxx xxxx card in xx xx 2018 and...</td>\n",
       "      <td>[i, upgraded, my, xxxx, xxxx, card, in, xx, xx...</td>\n",
       "      <td>[PRON, VERB, PRON, PROPN, NOUN, NOUN, ADP, PRO...</td>\n",
       "      <td>i upgraded my   card in   2018 and was told by...</td>\n",
       "      <td>3</td>\n",
       "    </tr>\n",
       "    <tr>\n",
       "      <th>14</th>\n",
       "      <td>my chase amazon card was declined for a cateri...</td>\n",
       "      <td>[my, chase, amazon, card, wa, declined, for, a...</td>\n",
       "      <td>[PRON, NOUN, PROPN, NOUN, AUX, VERB, ADP, DET,...</td>\n",
       "      <td>my chase amazon card was declined for a cateri...</td>\n",
       "      <td>3</td>\n",
       "    </tr>\n",
       "    <tr>\n",
       "      <th>46</th>\n",
       "      <td>multiple times with the latest being xx xx xxx...</td>\n",
       "      <td>[multiple, time, with, the, latest, being, xx,...</td>\n",
       "      <td>[ADJ, NOUN, ADP, DET, ADJ, NOUN, PROPN, NUM, N...</td>\n",
       "      <td>multiple times with the latest being    chase ...</td>\n",
       "      <td>4</td>\n",
       "    </tr>\n",
       "    <tr>\n",
       "      <th>24</th>\n",
       "      <td>i made a purchase of   260 00  on xx xx xxxx  ...</td>\n",
       "      <td>[i, made, a, purchase, of, 260, 00, on, xx, xx...</td>\n",
       "      <td>[PRON, VERB, DET, NOUN, ADP, SPACE, NUM, NUM, ...</td>\n",
       "      <td>i made a purchase of   260 00  on     i made p...</td>\n",
       "      <td>4</td>\n",
       "    </tr>\n",
       "    <tr>\n",
       "      <th>7</th>\n",
       "      <td>during the summer months  i experience a decli...</td>\n",
       "      <td>[during, the, summer, month, i, experience, a,...</td>\n",
       "      <td>[ADP, DET, NOUN, NOUN, SPACE, PRON, VERB, DET,...</td>\n",
       "      <td>during the summer months  i eperience a declin...</td>\n",
       "      <td>4</td>\n",
       "    </tr>\n",
       "    <tr>\n",
       "      <th>33</th>\n",
       "      <td>i recently called to ask chase bank why they r...</td>\n",
       "      <td>[i, recently, called, to, ask, chase, bank, wh...</td>\n",
       "      <td>[PRON, ADV, VERB, PART, VERB, NOUN, NOUN, ADV,...</td>\n",
       "      <td>i recently called to ask chase bank why they r...</td>\n",
       "      <td>4</td>\n",
       "    </tr>\n",
       "    <tr>\n",
       "      <th>73</th>\n",
       "      <td>a double payment from my chase debt cart to ch...</td>\n",
       "      <td>[a, double, payment, from, my, chase, debt, ca...</td>\n",
       "      <td>[DET, ADJ, NOUN, ADP, PRON, NOUN, NOUN, NOUN, ...</td>\n",
       "      <td>a double payment from my chase debt cart to ch...</td>\n",
       "      <td>4</td>\n",
       "    </tr>\n",
       "  </tbody>\n",
       "</table>\n",
       "</div>"
      ],
      "text/plain": [
       "                                       complaint_text  \\\n",
       "12  i opened an account with chase bank on xxxx an...   \n",
       "4   my grand son give me check for   1600 00  i de...   \n",
       "6   with out notice j p  morgan chase restricted m...   \n",
       "10  mishandling of this account by chase auto and ...   \n",
       "15  i opened the saving account for the   25 00  b...   \n",
       "2   chase card was reported on xx xx 2019  however...   \n",
       "3   on xx xx 2018  while trying to book a xxxx  xx...   \n",
       "5                       can you please remove inquiry   \n",
       "9   i have a chase credit card which is incorrectl...   \n",
       "11  i have reached out to xxxx several times in at...   \n",
       "41  my name is xxxx xxxx  i have missed a payment ...   \n",
       "32  i bought a new xxxx xxxx on xx xx xxxx from xx...   \n",
       "30  i have wired through one of chase branches in ...   \n",
       "23  i have been trying to do a loan modification w...   \n",
       "0   good morning my name is xxxx xxxx and i apprec...   \n",
       "13  to whom it may concern  chase bank charged wro...   \n",
       "16  xxxx xxxx a sofa  love seat  table and chairs ...   \n",
       "8   on xxxx xx xx 2019  i made a   300 00  payment...   \n",
       "1   i upgraded my xxxx xxxx card in xx xx 2018 and...   \n",
       "14  my chase amazon card was declined for a cateri...   \n",
       "46  multiple times with the latest being xx xx xxx...   \n",
       "24  i made a purchase of   260 00  on xx xx xxxx  ...   \n",
       "7   during the summer months  i experience a decli...   \n",
       "33  i recently called to ask chase bank why they r...   \n",
       "73  a double payment from my chase debt cart to ch...   \n",
       "\n",
       "                                 lemmatized_complaint  \\\n",
       "12  [i, opened, an, account, with, chase, bank, on...   \n",
       "4   [my, grand, son, give, me, check, for, 1600, 0...   \n",
       "6   [with, out, notice, j, p, morgan, chase, restr...   \n",
       "10  [mishandling, of, this, account, by, chase, au...   \n",
       "15  [i, opened, the, saving, account, for, the, 25...   \n",
       "2   [chase, card, wa, reported, on, xx, xx, 2019, ...   \n",
       "3   [on, xx, xx, 2018, while, trying, to, book, a,...   \n",
       "5                 [can, you, please, remove, inquiry]   \n",
       "9   [i, have, a, chase, credit, card, which, is, i...   \n",
       "11  [i, have, reached, out, to, xxxx, several, tim...   \n",
       "41  [my, name, is, xxxx, xxxx, i, have, missed, a,...   \n",
       "32  [i, bought, a, new, xxxx, xxxx, on, xx, xx, xx...   \n",
       "30  [i, have, wired, through, one, of, chase, bran...   \n",
       "23  [i, have, been, trying, to, do, a, loan, modif...   \n",
       "0   [good, morning, my, name, is, xxxx, xxxx, and,...   \n",
       "13  [to, whom, it, may, concern, chase, bank, char...   \n",
       "16  [xxxx, xxxx, a, sofa, love, seat, table, and, ...   \n",
       "8   [on, xxxx, xx, xx, 2019, i, made, a, 300, 00, ...   \n",
       "1   [i, upgraded, my, xxxx, xxxx, card, in, xx, xx...   \n",
       "14  [my, chase, amazon, card, wa, declined, for, a...   \n",
       "46  [multiple, time, with, the, latest, being, xx,...   \n",
       "24  [i, made, a, purchase, of, 260, 00, on, xx, xx...   \n",
       "7   [during, the, summer, month, i, experience, a,...   \n",
       "33  [i, recently, called, to, ask, chase, bank, wh...   \n",
       "73  [a, double, payment, from, my, chase, debt, ca...   \n",
       "\n",
       "                                             pos_tags  \\\n",
       "12  [PRON, VERB, DET, NOUN, ADP, PROPN, PROPN, ADP...   \n",
       "4   [PRON, ADJ, NOUN, VERB, PRON, VERB, ADP, SPACE...   \n",
       "6   [ADP, ADP, NOUN, PROPN, NOUN, SPACE, NOUN, NOU...   \n",
       "10  [VERB, ADP, DET, NOUN, ADP, PROPN, NOUN, CCONJ...   \n",
       "15  [PRON, VERB, DET, VERB, NOUN, ADP, DET, SPACE,...   \n",
       "2   [PROPN, PROPN, AUX, VERB, ADP, PROPN, PROPN, N...   \n",
       "3   [ADP, PROPN, PROPN, NUM, SPACE, SCONJ, VERB, P...   \n",
       "5                       [AUX, PRON, INTJ, VERB, NOUN]   \n",
       "9   [PRON, VERB, DET, ADJ, NOUN, NOUN, DET, AUX, A...   \n",
       "11  [PRON, AUX, VERB, ADP, ADP, NOUN, ADJ, NOUN, A...   \n",
       "41  [PRON, NOUN, AUX, NOUN, NOUN, SPACE, PRON, AUX...   \n",
       "32  [PRON, VERB, DET, ADJ, NOUN, NOUN, ADP, PROPN,...   \n",
       "30  [PRON, AUX, VERB, ADP, NUM, ADP, NOUN, NOUN, A...   \n",
       "23  [PRON, AUX, AUX, VERB, PART, VERB, DET, NOUN, ...   \n",
       "0   [ADJ, NOUN, PRON, NOUN, AUX, PROPN, PROPN, CCO...   \n",
       "13  [PART, PRON, PRON, AUX, VERB, SPACE, NOUN, NOU...   \n",
       "16  [NOUN, NOUN, DET, NOUN, SPACE, NOUN, NOUN, SPA...   \n",
       "8   [ADP, PROPN, PROPN, PROPN, NUM, SPACE, PRON, V...   \n",
       "1   [PRON, VERB, PRON, PROPN, NOUN, NOUN, ADP, PRO...   \n",
       "14  [PRON, NOUN, PROPN, NOUN, AUX, VERB, ADP, DET,...   \n",
       "46  [ADJ, NOUN, ADP, DET, ADJ, NOUN, PROPN, NUM, N...   \n",
       "24  [PRON, VERB, DET, NOUN, ADP, SPACE, NUM, NUM, ...   \n",
       "7   [ADP, DET, NOUN, NOUN, SPACE, PRON, VERB, DET,...   \n",
       "33  [PRON, ADV, VERB, PART, VERB, NOUN, NOUN, ADV,...   \n",
       "73  [DET, ADJ, NOUN, ADP, PRON, NOUN, NOUN, NOUN, ...   \n",
       "\n",
       "                                      Complaint_clean  Topic  \n",
       "12  i opened an account with chase bank on  and us...      0  \n",
       "4   my grand son give me check for   1600 00  i de...      0  \n",
       "6   with out notice j p  morgan chase restricted m...      0  \n",
       "10    mishandling of this account by chase auto and        0  \n",
       "15  i opened the saving account for the   25 00  b...      0  \n",
       "2   chase card was reported on   2019  however  fr...      1  \n",
       "3   on   2018  while trying to book a     ticket  ...      1  \n",
       "5                       can you please remove inquiry      1  \n",
       "9   i have a chase credit card which is incorrectl...      1  \n",
       "11  i have reached out to  several times in attemp...      1  \n",
       "41  my name is    i have missed a payment in   201...      2  \n",
       "32  i bought a new   on    from    in   \\ni paid t...      2  \n",
       "30  i have wired through one of chase branches in ...      2  \n",
       "23  i have been trying to do a loan modification w...      2  \n",
       "0   good morning my name is   and i appreciate it ...      2  \n",
       "13  to whom it may concern  chase bank charged wro...      3  \n",
       "16    a sofa  love seat  table and chairs and was ...      3  \n",
       "8   on    2019  i made a   300 00  payment to an o...      3  \n",
       "1   i upgraded my   card in   2018 and was told by...      3  \n",
       "14  my chase amazon card was declined for a cateri...      3  \n",
       "46  multiple times with the latest being    chase ...      4  \n",
       "24  i made a purchase of   260 00  on     i made p...      4  \n",
       "7   during the summer months  i eperience a declin...      4  \n",
       "33  i recently called to ask chase bank why they r...      4  \n",
       "73  a double payment from my chase debt cart to ch...      4  "
      ]
     },
     "execution_count": 37,
     "metadata": {},
     "output_type": "execute_result"
    }
   ],
   "source": [
    "#Print the first 5 Complaint for each of the Topics\n",
    "df_clean_group=df_clean.groupby('Topic').head(5)\n",
    "df_clean_group.sort_values('Topic')"
   ]
  },
  {
   "cell_type": "markdown",
   "metadata": {
    "id": "piyLxzj6v07j"
   },
   "source": [
    "#### After evaluating the mapping, if the topics assigned are correct then assign these names to the relevant topic:\n",
    "* Bank Account services\n",
    "* Credit card or prepaid card\n",
    "* Theft/Dispute Reporting\n",
    "* Mortgage/Loan\n",
    "* Others"
   ]
  },
  {
   "cell_type": "code",
   "execution_count": 38,
   "metadata": {
    "id": "TWpwDG4RJrGG"
   },
   "outputs": [
    {
     "name": "stderr",
     "output_type": "stream",
     "text": [
      "C:\\Users\\Namrata Thakur\\anaconda3\\envs\\python39\\lib\\site-packages\\pandas\\core\\frame.py:3607: SettingWithCopyWarning:\n",
      "\n",
      "\n",
      "A value is trying to be set on a copy of a slice from a DataFrame.\n",
      "Try using .loc[row_indexer,col_indexer] = value instead\n",
      "\n",
      "See the caveats in the documentation: https://pandas.pydata.org/pandas-docs/stable/user_guide/indexing.html#returning-a-view-versus-a-copy\n",
      "\n"
     ]
    }
   ],
   "source": [
    "#Create the dictionary of Topic names and Topics\n",
    "\n",
    "Topic_names = { 0: \"Bank Account services\",\n",
    "                1: \"Credit card or prepaid card\",\n",
    "                2: \"Mortgage/Loan\",\n",
    "                3: \"Theft/Dispute Reporting\",\n",
    "                4: \"Others\"}\n",
    "#Replace Topics with Topic Names\n",
    "df_clean['Topic'] = df_clean['Topic'].map(Topic_names)"
   ]
  },
  {
   "cell_type": "code",
   "execution_count": 39,
   "metadata": {
    "id": "-2ULY5K6JrGG"
   },
   "outputs": [
    {
     "data": {
      "text/html": [
       "<div>\n",
       "<style scoped>\n",
       "    .dataframe tbody tr th:only-of-type {\n",
       "        vertical-align: middle;\n",
       "    }\n",
       "\n",
       "    .dataframe tbody tr th {\n",
       "        vertical-align: top;\n",
       "    }\n",
       "\n",
       "    .dataframe thead th {\n",
       "        text-align: right;\n",
       "    }\n",
       "</style>\n",
       "<table border=\"1\" class=\"dataframe\">\n",
       "  <thead>\n",
       "    <tr style=\"text-align: right;\">\n",
       "      <th></th>\n",
       "      <th>complaint_text</th>\n",
       "      <th>lemmatized_complaint</th>\n",
       "      <th>pos_tags</th>\n",
       "      <th>Complaint_clean</th>\n",
       "      <th>Topic</th>\n",
       "    </tr>\n",
       "  </thead>\n",
       "  <tbody>\n",
       "    <tr>\n",
       "      <th>0</th>\n",
       "      <td>good morning my name is xxxx xxxx and i apprec...</td>\n",
       "      <td>[good, morning, my, name, is, xxxx, xxxx, and,...</td>\n",
       "      <td>[ADJ, NOUN, PRON, NOUN, AUX, PROPN, PROPN, CCO...</td>\n",
       "      <td>good morning my name is   and i appreciate it ...</td>\n",
       "      <td>Mortgage/Loan</td>\n",
       "    </tr>\n",
       "    <tr>\n",
       "      <th>1</th>\n",
       "      <td>i upgraded my xxxx xxxx card in xx xx 2018 and...</td>\n",
       "      <td>[i, upgraded, my, xxxx, xxxx, card, in, xx, xx...</td>\n",
       "      <td>[PRON, VERB, PRON, PROPN, NOUN, NOUN, ADP, PRO...</td>\n",
       "      <td>i upgraded my   card in   2018 and was told by...</td>\n",
       "      <td>Theft/Dispute Reporting</td>\n",
       "    </tr>\n",
       "    <tr>\n",
       "      <th>2</th>\n",
       "      <td>chase card was reported on xx xx 2019  however...</td>\n",
       "      <td>[chase, card, wa, reported, on, xx, xx, 2019, ...</td>\n",
       "      <td>[PROPN, PROPN, AUX, VERB, ADP, PROPN, PROPN, N...</td>\n",
       "      <td>chase card was reported on   2019  however  fr...</td>\n",
       "      <td>Credit card or prepaid card</td>\n",
       "    </tr>\n",
       "    <tr>\n",
       "      <th>3</th>\n",
       "      <td>on xx xx 2018  while trying to book a xxxx  xx...</td>\n",
       "      <td>[on, xx, xx, 2018, while, trying, to, book, a,...</td>\n",
       "      <td>[ADP, PROPN, PROPN, NUM, SPACE, SCONJ, VERB, P...</td>\n",
       "      <td>on   2018  while trying to book a     ticket  ...</td>\n",
       "      <td>Credit card or prepaid card</td>\n",
       "    </tr>\n",
       "    <tr>\n",
       "      <th>4</th>\n",
       "      <td>my grand son give me check for   1600 00  i de...</td>\n",
       "      <td>[my, grand, son, give, me, check, for, 1600, 0...</td>\n",
       "      <td>[PRON, ADJ, NOUN, VERB, PRON, VERB, ADP, SPACE...</td>\n",
       "      <td>my grand son give me check for   1600 00  i de...</td>\n",
       "      <td>Bank Account services</td>\n",
       "    </tr>\n",
       "    <tr>\n",
       "      <th>...</th>\n",
       "      <td>...</td>\n",
       "      <td>...</td>\n",
       "      <td>...</td>\n",
       "      <td>...</td>\n",
       "      <td>...</td>\n",
       "    </tr>\n",
       "    <tr>\n",
       "      <th>21067</th>\n",
       "      <td>after being a chase card customer for well ove...</td>\n",
       "      <td>[after, being, a, chase, card, customer, for, ...</td>\n",
       "      <td>[ADP, VERB, DET, NOUN, NOUN, NOUN, ADP, ADV, A...</td>\n",
       "      <td>after being a chase card customer for well ove...</td>\n",
       "      <td>Credit card or prepaid card</td>\n",
       "    </tr>\n",
       "    <tr>\n",
       "      <th>21068</th>\n",
       "      <td>on wednesday  xx xx xxxx i called chas  my xxx...</td>\n",
       "      <td>[on, wednesday, xx, xx, xxxx, i, called, chas,...</td>\n",
       "      <td>[ADP, PROPN, SPACE, NUM, NUM, NOUN, PRON, VERB...</td>\n",
       "      <td>on wednesday     i called chas  my   visa cred...</td>\n",
       "      <td>Theft/Dispute Reporting</td>\n",
       "    </tr>\n",
       "    <tr>\n",
       "      <th>21069</th>\n",
       "      <td>i am not familiar with xxxx pay and did not un...</td>\n",
       "      <td>[i, am, not, familiar, with, xxxx, pay, and, d...</td>\n",
       "      <td>[PRON, AUX, PART, ADJ, ADP, ADJ, NOUN, CCONJ, ...</td>\n",
       "      <td>i am not familiar with  pay and did not unders...</td>\n",
       "      <td>Theft/Dispute Reporting</td>\n",
       "    </tr>\n",
       "    <tr>\n",
       "      <th>21070</th>\n",
       "      <td>i have had flawless credit for 30 yrs  i ve ha...</td>\n",
       "      <td>[i, have, had, flawless, credit, for, 30, yr, ...</td>\n",
       "      <td>[PRON, AUX, VERB, ADJ, NOUN, ADP, NUM, NOUN, S...</td>\n",
       "      <td>i have had flawless credit for 30 yrs  i ve ha...</td>\n",
       "      <td>Others</td>\n",
       "    </tr>\n",
       "    <tr>\n",
       "      <th>21071</th>\n",
       "      <td>roughly 10  years ago i closed out my accounts...</td>\n",
       "      <td>[roughly, 10, year, ago, i, closed, out, my, a...</td>\n",
       "      <td>[ADV, NUM, SPACE, NOUN, ADV, PRON, VERB, ADP, ...</td>\n",
       "      <td>roughly 10  years ago i closed out my accounts...</td>\n",
       "      <td>Others</td>\n",
       "    </tr>\n",
       "  </tbody>\n",
       "</table>\n",
       "<p>21072 rows × 5 columns</p>\n",
       "</div>"
      ],
      "text/plain": [
       "                                          complaint_text  \\\n",
       "0      good morning my name is xxxx xxxx and i apprec...   \n",
       "1      i upgraded my xxxx xxxx card in xx xx 2018 and...   \n",
       "2      chase card was reported on xx xx 2019  however...   \n",
       "3      on xx xx 2018  while trying to book a xxxx  xx...   \n",
       "4      my grand son give me check for   1600 00  i de...   \n",
       "...                                                  ...   \n",
       "21067  after being a chase card customer for well ove...   \n",
       "21068  on wednesday  xx xx xxxx i called chas  my xxx...   \n",
       "21069  i am not familiar with xxxx pay and did not un...   \n",
       "21070  i have had flawless credit for 30 yrs  i ve ha...   \n",
       "21071  roughly 10  years ago i closed out my accounts...   \n",
       "\n",
       "                                    lemmatized_complaint  \\\n",
       "0      [good, morning, my, name, is, xxxx, xxxx, and,...   \n",
       "1      [i, upgraded, my, xxxx, xxxx, card, in, xx, xx...   \n",
       "2      [chase, card, wa, reported, on, xx, xx, 2019, ...   \n",
       "3      [on, xx, xx, 2018, while, trying, to, book, a,...   \n",
       "4      [my, grand, son, give, me, check, for, 1600, 0...   \n",
       "...                                                  ...   \n",
       "21067  [after, being, a, chase, card, customer, for, ...   \n",
       "21068  [on, wednesday, xx, xx, xxxx, i, called, chas,...   \n",
       "21069  [i, am, not, familiar, with, xxxx, pay, and, d...   \n",
       "21070  [i, have, had, flawless, credit, for, 30, yr, ...   \n",
       "21071  [roughly, 10, year, ago, i, closed, out, my, a...   \n",
       "\n",
       "                                                pos_tags  \\\n",
       "0      [ADJ, NOUN, PRON, NOUN, AUX, PROPN, PROPN, CCO...   \n",
       "1      [PRON, VERB, PRON, PROPN, NOUN, NOUN, ADP, PRO...   \n",
       "2      [PROPN, PROPN, AUX, VERB, ADP, PROPN, PROPN, N...   \n",
       "3      [ADP, PROPN, PROPN, NUM, SPACE, SCONJ, VERB, P...   \n",
       "4      [PRON, ADJ, NOUN, VERB, PRON, VERB, ADP, SPACE...   \n",
       "...                                                  ...   \n",
       "21067  [ADP, VERB, DET, NOUN, NOUN, NOUN, ADP, ADV, A...   \n",
       "21068  [ADP, PROPN, SPACE, NUM, NUM, NOUN, PRON, VERB...   \n",
       "21069  [PRON, AUX, PART, ADJ, ADP, ADJ, NOUN, CCONJ, ...   \n",
       "21070  [PRON, AUX, VERB, ADJ, NOUN, ADP, NUM, NOUN, S...   \n",
       "21071  [ADV, NUM, SPACE, NOUN, ADV, PRON, VERB, ADP, ...   \n",
       "\n",
       "                                         Complaint_clean  \\\n",
       "0      good morning my name is   and i appreciate it ...   \n",
       "1      i upgraded my   card in   2018 and was told by...   \n",
       "2      chase card was reported on   2019  however  fr...   \n",
       "3      on   2018  while trying to book a     ticket  ...   \n",
       "4      my grand son give me check for   1600 00  i de...   \n",
       "...                                                  ...   \n",
       "21067  after being a chase card customer for well ove...   \n",
       "21068  on wednesday     i called chas  my   visa cred...   \n",
       "21069  i am not familiar with  pay and did not unders...   \n",
       "21070  i have had flawless credit for 30 yrs  i ve ha...   \n",
       "21071  roughly 10  years ago i closed out my accounts...   \n",
       "\n",
       "                             Topic  \n",
       "0                    Mortgage/Loan  \n",
       "1          Theft/Dispute Reporting  \n",
       "2      Credit card or prepaid card  \n",
       "3      Credit card or prepaid card  \n",
       "4            Bank Account services  \n",
       "...                            ...  \n",
       "21067  Credit card or prepaid card  \n",
       "21068      Theft/Dispute Reporting  \n",
       "21069      Theft/Dispute Reporting  \n",
       "21070                       Others  \n",
       "21071                       Others  \n",
       "\n",
       "[21072 rows x 5 columns]"
      ]
     },
     "execution_count": 39,
     "metadata": {},
     "output_type": "execute_result"
    }
   ],
   "source": [
    "df_clean"
   ]
  },
  {
   "cell_type": "code",
   "execution_count": 40,
   "metadata": {},
   "outputs": [
    {
     "data": {
      "image/png": "[encoded data removed]",
      "text/plain": [
       "<Figure size 432x288 with 1 Axes>"
      ]
     },
     "metadata": {
      "needs_background": "light"
     },
     "output_type": "display_data"
    }
   ],
   "source": [
    "df_clean['Topic'].value_counts().plot.bar()\n",
    "plt.title('Distribution of Topics')\n",
    "plt.xlabel('Topic Names')\n",
    "plt.ylabel('Count')\n",
    "plt.show()"
   ]
  },
  {
   "cell_type": "markdown",
   "metadata": {},
   "source": [
    "Topic with name as 'Theft/Dispute Reporting' has the highest frequency."
   ]
  },
  {
   "cell_type": "markdown",
   "metadata": {
    "id": "7Mu0QBOcJrGH"
   },
   "source": [
    "## Supervised model to predict any new complaints to the relevant Topics.\n",
    "\n",
    "You have now build the model to create the topics for each complaints.Now in the below section you will use them to classify any new complaints.\n",
    "\n",
    "Since you will be using supervised learning technique we have to convert the topic names to numbers(numpy arrays only understand numbers)"
   ]
  },
  {
   "cell_type": "code",
   "execution_count": 41,
   "metadata": {
    "id": "_U8J3J8wJrGH"
   },
   "outputs": [
    {
     "name": "stderr",
     "output_type": "stream",
     "text": [
      "C:\\Users\\Namrata Thakur\\anaconda3\\envs\\python39\\lib\\site-packages\\pandas\\core\\frame.py:3607: SettingWithCopyWarning:\n",
      "\n",
      "\n",
      "A value is trying to be set on a copy of a slice from a DataFrame.\n",
      "Try using .loc[row_indexer,col_indexer] = value instead\n",
      "\n",
      "See the caveats in the documentation: https://pandas.pydata.org/pandas-docs/stable/user_guide/indexing.html#returning-a-view-versus-a-copy\n",
      "\n"
     ]
    }
   ],
   "source": [
    "#Create the dictionary again of Topic names and Topics\n",
    "\n",
    "Topic_names = { 'Bank Account services':0,\n",
    "    'Credit card or prepaid card':1,\n",
    "    'Mortgage/Loan':2,\n",
    "    'Theft/Dispute Reporting':3,\n",
    "    'Others' : 4  }\n",
    "\n",
    "#Replace Topics with Topic Names\n",
    "df_clean['Topic'] = df_clean['Topic'].map(Topic_names)"
   ]
  },
  {
   "cell_type": "code",
   "execution_count": 42,
   "metadata": {
    "id": "BWIgJUkQJrGH"
   },
   "outputs": [
    {
     "data": {
      "text/html": [
       "<div>\n",
       "<style scoped>\n",
       "    .dataframe tbody tr th:only-of-type {\n",
       "        vertical-align: middle;\n",
       "    }\n",
       "\n",
       "    .dataframe tbody tr th {\n",
       "        vertical-align: top;\n",
       "    }\n",
       "\n",
       "    .dataframe thead th {\n",
       "        text-align: right;\n",
       "    }\n",
       "</style>\n",
       "<table border=\"1\" class=\"dataframe\">\n",
       "  <thead>\n",
       "    <tr style=\"text-align: right;\">\n",
       "      <th></th>\n",
       "      <th>complaint_text</th>\n",
       "      <th>lemmatized_complaint</th>\n",
       "      <th>pos_tags</th>\n",
       "      <th>Complaint_clean</th>\n",
       "      <th>Topic</th>\n",
       "    </tr>\n",
       "  </thead>\n",
       "  <tbody>\n",
       "    <tr>\n",
       "      <th>0</th>\n",
       "      <td>good morning my name is xxxx xxxx and i apprec...</td>\n",
       "      <td>[good, morning, my, name, is, xxxx, xxxx, and,...</td>\n",
       "      <td>[ADJ, NOUN, PRON, NOUN, AUX, PROPN, PROPN, CCO...</td>\n",
       "      <td>good morning my name is   and i appreciate it ...</td>\n",
       "      <td>2</td>\n",
       "    </tr>\n",
       "    <tr>\n",
       "      <th>1</th>\n",
       "      <td>i upgraded my xxxx xxxx card in xx xx 2018 and...</td>\n",
       "      <td>[i, upgraded, my, xxxx, xxxx, card, in, xx, xx...</td>\n",
       "      <td>[PRON, VERB, PRON, PROPN, NOUN, NOUN, ADP, PRO...</td>\n",
       "      <td>i upgraded my   card in   2018 and was told by...</td>\n",
       "      <td>3</td>\n",
       "    </tr>\n",
       "    <tr>\n",
       "      <th>2</th>\n",
       "      <td>chase card was reported on xx xx 2019  however...</td>\n",
       "      <td>[chase, card, wa, reported, on, xx, xx, 2019, ...</td>\n",
       "      <td>[PROPN, PROPN, AUX, VERB, ADP, PROPN, PROPN, N...</td>\n",
       "      <td>chase card was reported on   2019  however  fr...</td>\n",
       "      <td>1</td>\n",
       "    </tr>\n",
       "    <tr>\n",
       "      <th>3</th>\n",
       "      <td>on xx xx 2018  while trying to book a xxxx  xx...</td>\n",
       "      <td>[on, xx, xx, 2018, while, trying, to, book, a,...</td>\n",
       "      <td>[ADP, PROPN, PROPN, NUM, SPACE, SCONJ, VERB, P...</td>\n",
       "      <td>on   2018  while trying to book a     ticket  ...</td>\n",
       "      <td>1</td>\n",
       "    </tr>\n",
       "    <tr>\n",
       "      <th>4</th>\n",
       "      <td>my grand son give me check for   1600 00  i de...</td>\n",
       "      <td>[my, grand, son, give, me, check, for, 1600, 0...</td>\n",
       "      <td>[PRON, ADJ, NOUN, VERB, PRON, VERB, ADP, SPACE...</td>\n",
       "      <td>my grand son give me check for   1600 00  i de...</td>\n",
       "      <td>0</td>\n",
       "    </tr>\n",
       "    <tr>\n",
       "      <th>...</th>\n",
       "      <td>...</td>\n",
       "      <td>...</td>\n",
       "      <td>...</td>\n",
       "      <td>...</td>\n",
       "      <td>...</td>\n",
       "    </tr>\n",
       "    <tr>\n",
       "      <th>21067</th>\n",
       "      <td>after being a chase card customer for well ove...</td>\n",
       "      <td>[after, being, a, chase, card, customer, for, ...</td>\n",
       "      <td>[ADP, VERB, DET, NOUN, NOUN, NOUN, ADP, ADV, A...</td>\n",
       "      <td>after being a chase card customer for well ove...</td>\n",
       "      <td>1</td>\n",
       "    </tr>\n",
       "    <tr>\n",
       "      <th>21068</th>\n",
       "      <td>on wednesday  xx xx xxxx i called chas  my xxx...</td>\n",
       "      <td>[on, wednesday, xx, xx, xxxx, i, called, chas,...</td>\n",
       "      <td>[ADP, PROPN, SPACE, NUM, NUM, NOUN, PRON, VERB...</td>\n",
       "      <td>on wednesday     i called chas  my   visa cred...</td>\n",
       "      <td>3</td>\n",
       "    </tr>\n",
       "    <tr>\n",
       "      <th>21069</th>\n",
       "      <td>i am not familiar with xxxx pay and did not un...</td>\n",
       "      <td>[i, am, not, familiar, with, xxxx, pay, and, d...</td>\n",
       "      <td>[PRON, AUX, PART, ADJ, ADP, ADJ, NOUN, CCONJ, ...</td>\n",
       "      <td>i am not familiar with  pay and did not unders...</td>\n",
       "      <td>3</td>\n",
       "    </tr>\n",
       "    <tr>\n",
       "      <th>21070</th>\n",
       "      <td>i have had flawless credit for 30 yrs  i ve ha...</td>\n",
       "      <td>[i, have, had, flawless, credit, for, 30, yr, ...</td>\n",
       "      <td>[PRON, AUX, VERB, ADJ, NOUN, ADP, NUM, NOUN, S...</td>\n",
       "      <td>i have had flawless credit for 30 yrs  i ve ha...</td>\n",
       "      <td>4</td>\n",
       "    </tr>\n",
       "    <tr>\n",
       "      <th>21071</th>\n",
       "      <td>roughly 10  years ago i closed out my accounts...</td>\n",
       "      <td>[roughly, 10, year, ago, i, closed, out, my, a...</td>\n",
       "      <td>[ADV, NUM, SPACE, NOUN, ADV, PRON, VERB, ADP, ...</td>\n",
       "      <td>roughly 10  years ago i closed out my accounts...</td>\n",
       "      <td>4</td>\n",
       "    </tr>\n",
       "  </tbody>\n",
       "</table>\n",
       "<p>21072 rows × 5 columns</p>\n",
       "</div>"
      ],
      "text/plain": [
       "                                          complaint_text  \\\n",
       "0      good morning my name is xxxx xxxx and i apprec...   \n",
       "1      i upgraded my xxxx xxxx card in xx xx 2018 and...   \n",
       "2      chase card was reported on xx xx 2019  however...   \n",
       "3      on xx xx 2018  while trying to book a xxxx  xx...   \n",
       "4      my grand son give me check for   1600 00  i de...   \n",
       "...                                                  ...   \n",
       "21067  after being a chase card customer for well ove...   \n",
       "21068  on wednesday  xx xx xxxx i called chas  my xxx...   \n",
       "21069  i am not familiar with xxxx pay and did not un...   \n",
       "21070  i have had flawless credit for 30 yrs  i ve ha...   \n",
       "21071  roughly 10  years ago i closed out my accounts...   \n",
       "\n",
       "                                    lemmatized_complaint  \\\n",
       "0      [good, morning, my, name, is, xxxx, xxxx, and,...   \n",
       "1      [i, upgraded, my, xxxx, xxxx, card, in, xx, xx...   \n",
       "2      [chase, card, wa, reported, on, xx, xx, 2019, ...   \n",
       "3      [on, xx, xx, 2018, while, trying, to, book, a,...   \n",
       "4      [my, grand, son, give, me, check, for, 1600, 0...   \n",
       "...                                                  ...   \n",
       "21067  [after, being, a, chase, card, customer, for, ...   \n",
       "21068  [on, wednesday, xx, xx, xxxx, i, called, chas,...   \n",
       "21069  [i, am, not, familiar, with, xxxx, pay, and, d...   \n",
       "21070  [i, have, had, flawless, credit, for, 30, yr, ...   \n",
       "21071  [roughly, 10, year, ago, i, closed, out, my, a...   \n",
       "\n",
       "                                                pos_tags  \\\n",
       "0      [ADJ, NOUN, PRON, NOUN, AUX, PROPN, PROPN, CCO...   \n",
       "1      [PRON, VERB, PRON, PROPN, NOUN, NOUN, ADP, PRO...   \n",
       "2      [PROPN, PROPN, AUX, VERB, ADP, PROPN, PROPN, N...   \n",
       "3      [ADP, PROPN, PROPN, NUM, SPACE, SCONJ, VERB, P...   \n",
       "4      [PRON, ADJ, NOUN, VERB, PRON, VERB, ADP, SPACE...   \n",
       "...                                                  ...   \n",
       "21067  [ADP, VERB, DET, NOUN, NOUN, NOUN, ADP, ADV, A...   \n",
       "21068  [ADP, PROPN, SPACE, NUM, NUM, NOUN, PRON, VERB...   \n",
       "21069  [PRON, AUX, PART, ADJ, ADP, ADJ, NOUN, CCONJ, ...   \n",
       "21070  [PRON, AUX, VERB, ADJ, NOUN, ADP, NUM, NOUN, S...   \n",
       "21071  [ADV, NUM, SPACE, NOUN, ADV, PRON, VERB, ADP, ...   \n",
       "\n",
       "                                         Complaint_clean  Topic  \n",
       "0      good morning my name is   and i appreciate it ...      2  \n",
       "1      i upgraded my   card in   2018 and was told by...      3  \n",
       "2      chase card was reported on   2019  however  fr...      1  \n",
       "3      on   2018  while trying to book a     ticket  ...      1  \n",
       "4      my grand son give me check for   1600 00  i de...      0  \n",
       "...                                                  ...    ...  \n",
       "21067  after being a chase card customer for well ove...      1  \n",
       "21068  on wednesday     i called chas  my   visa cred...      3  \n",
       "21069  i am not familiar with  pay and did not unders...      3  \n",
       "21070  i have had flawless credit for 30 yrs  i ve ha...      4  \n",
       "21071  roughly 10  years ago i closed out my accounts...      4  \n",
       "\n",
       "[21072 rows x 5 columns]"
      ]
     },
     "execution_count": 42,
     "metadata": {},
     "output_type": "execute_result"
    }
   ],
   "source": [
    "df_clean"
   ]
  },
  {
   "cell_type": "code",
   "execution_count": 43,
   "metadata": {
    "id": "Xx-FrbkWJrGH"
   },
   "outputs": [],
   "source": [
    "#Keep the columns\"complaint_what_happened\" & \"Topic\" only in the new dataframe --> training_data\n",
    "training_data= df_clean[['complaint_text', 'Topic']]"
   ]
  },
  {
   "cell_type": "code",
   "execution_count": 44,
   "metadata": {
    "id": "lVg2pa12JrGI"
   },
   "outputs": [
    {
     "data": {
      "text/html": [
       "<div>\n",
       "<style scoped>\n",
       "    .dataframe tbody tr th:only-of-type {\n",
       "        vertical-align: middle;\n",
       "    }\n",
       "\n",
       "    .dataframe tbody tr th {\n",
       "        vertical-align: top;\n",
       "    }\n",
       "\n",
       "    .dataframe thead th {\n",
       "        text-align: right;\n",
       "    }\n",
       "</style>\n",
       "<table border=\"1\" class=\"dataframe\">\n",
       "  <thead>\n",
       "    <tr style=\"text-align: right;\">\n",
       "      <th></th>\n",
       "      <th>complaint_text</th>\n",
       "      <th>Topic</th>\n",
       "    </tr>\n",
       "  </thead>\n",
       "  <tbody>\n",
       "    <tr>\n",
       "      <th>0</th>\n",
       "      <td>good morning my name is xxxx xxxx and i apprec...</td>\n",
       "      <td>2</td>\n",
       "    </tr>\n",
       "    <tr>\n",
       "      <th>1</th>\n",
       "      <td>i upgraded my xxxx xxxx card in xx xx 2018 and...</td>\n",
       "      <td>3</td>\n",
       "    </tr>\n",
       "    <tr>\n",
       "      <th>2</th>\n",
       "      <td>chase card was reported on xx xx 2019  however...</td>\n",
       "      <td>1</td>\n",
       "    </tr>\n",
       "    <tr>\n",
       "      <th>3</th>\n",
       "      <td>on xx xx 2018  while trying to book a xxxx  xx...</td>\n",
       "      <td>1</td>\n",
       "    </tr>\n",
       "    <tr>\n",
       "      <th>4</th>\n",
       "      <td>my grand son give me check for   1600 00  i de...</td>\n",
       "      <td>0</td>\n",
       "    </tr>\n",
       "    <tr>\n",
       "      <th>...</th>\n",
       "      <td>...</td>\n",
       "      <td>...</td>\n",
       "    </tr>\n",
       "    <tr>\n",
       "      <th>21067</th>\n",
       "      <td>after being a chase card customer for well ove...</td>\n",
       "      <td>1</td>\n",
       "    </tr>\n",
       "    <tr>\n",
       "      <th>21068</th>\n",
       "      <td>on wednesday  xx xx xxxx i called chas  my xxx...</td>\n",
       "      <td>3</td>\n",
       "    </tr>\n",
       "    <tr>\n",
       "      <th>21069</th>\n",
       "      <td>i am not familiar with xxxx pay and did not un...</td>\n",
       "      <td>3</td>\n",
       "    </tr>\n",
       "    <tr>\n",
       "      <th>21070</th>\n",
       "      <td>i have had flawless credit for 30 yrs  i ve ha...</td>\n",
       "      <td>4</td>\n",
       "    </tr>\n",
       "    <tr>\n",
       "      <th>21071</th>\n",
       "      <td>roughly 10  years ago i closed out my accounts...</td>\n",
       "      <td>4</td>\n",
       "    </tr>\n",
       "  </tbody>\n",
       "</table>\n",
       "<p>21072 rows × 2 columns</p>\n",
       "</div>"
      ],
      "text/plain": [
       "                                          complaint_text  Topic\n",
       "0      good morning my name is xxxx xxxx and i apprec...      2\n",
       "1      i upgraded my xxxx xxxx card in xx xx 2018 and...      3\n",
       "2      chase card was reported on xx xx 2019  however...      1\n",
       "3      on xx xx 2018  while trying to book a xxxx  xx...      1\n",
       "4      my grand son give me check for   1600 00  i de...      0\n",
       "...                                                  ...    ...\n",
       "21067  after being a chase card customer for well ove...      1\n",
       "21068  on wednesday  xx xx xxxx i called chas  my xxx...      3\n",
       "21069  i am not familiar with xxxx pay and did not un...      3\n",
       "21070  i have had flawless credit for 30 yrs  i ve ha...      4\n",
       "21071  roughly 10  years ago i closed out my accounts...      4\n",
       "\n",
       "[21072 rows x 2 columns]"
      ]
     },
     "execution_count": 44,
     "metadata": {},
     "output_type": "execute_result"
    }
   ],
   "source": [
    "training_data"
   ]
  },
  {
   "cell_type": "markdown",
   "metadata": {
    "id": "280Vbqk-7a8M"
   },
   "source": [
    "#### Apply the supervised models on the training data created. In this process, you have to do the following:\n",
    "* Create the vector counts using Count Vectoriser\n",
    "* Transform the word vector to tf-idf\n",
    "* Create the train & test data using the train_test_split on the tf-idf & topics\n"
   ]
  },
  {
   "cell_type": "code",
   "execution_count": 45,
   "metadata": {
    "id": "oUlQpgkzJrGI"
   },
   "outputs": [],
   "source": [
    "#Write your code to get the Vector count\n",
    "counts = CountVectorizer(stop_words='english', max_df=0.95, min_df=2)\n",
    "train_data = counts.fit_transform(training_data['complaint_text'])\n",
    "\n",
    "#Write your code here to transform the word vector to tf-idf\n",
    "\n",
    "tfidf_model = TfidfTransformer(use_idf=True)\n",
    "tfidf_data = tfidf_model.fit_transform(train_data)"
   ]
  },
  {
   "cell_type": "code",
   "execution_count": 46,
   "metadata": {},
   "outputs": [
    {
     "data": {
      "text/plain": [
       "(21072, 15726)"
      ]
     },
     "execution_count": 46,
     "metadata": {},
     "output_type": "execute_result"
    }
   ],
   "source": [
    "tfidf_data.shape"
   ]
  },
  {
   "cell_type": "markdown",
   "metadata": {
    "id": "uMU3vj6w-wqL"
   },
   "source": [
    "You have to try atleast 3 models on the train & test data from these options:\n",
    "* Logistic regression\n",
    "* Decision Tree\n",
    "* Random Forest\n",
    "* Naive Bayes (optional)\n",
    "\n",
    "**Using the required evaluation metrics judge the tried models and select the ones performing the best**"
   ]
  },
  {
   "cell_type": "code",
   "execution_count": 47,
   "metadata": {},
   "outputs": [],
   "source": [
    "from sklearn.model_selection import train_test_split\n",
    "from sklearn.linear_model import LogisticRegression\n",
    "from sklearn.tree import DecisionTreeClassifier\n",
    "from sklearn.ensemble import RandomForestClassifier\n",
    "from sklearn.model_selection import GridSearchCV\n",
    "from sklearn.naive_bayes import MultinomialNB\n",
    "\n",
    "from sklearn.metrics import f1_score"
   ]
  },
  {
   "cell_type": "code",
   "execution_count": 48,
   "metadata": {
    "id": "udLHpPsZJrGI"
   },
   "outputs": [
    {
     "name": "stdout",
     "output_type": "stream",
     "text": [
      "Shape of X_train:  (16857, 15726)\n",
      "Shape of y_train:  (16857,)\n",
      "Shape of X_test:  (4215, 15726)\n",
      "Shape of y_test:  (4215,)\n"
     ]
    }
   ],
   "source": [
    "# Write your code here to build any 3 models and evaluate them using the required metrics\n",
    "\n",
    "X_train, X_test, y_train, y_test = train_test_split(tfidf_data, training_data[\"Topic\"], test_size=0.2, random_state=40)\n",
    "print(\"Shape of X_train: \", X_train.shape)\n",
    "print(\"Shape of y_train: \", y_train.shape)\n",
    "print(\"Shape of X_test: \", X_test.shape)\n",
    "print(\"Shape of y_test: \", y_test.shape)\n",
    "\n"
   ]
  },
  {
   "cell_type": "code",
   "execution_count": 49,
   "metadata": {},
   "outputs": [],
   "source": [
    "#Fitting Logistic Regression, Decision Tree, Random Forest and Naive Bayes model on the training data\n",
    "\n",
    "logistic_regression = LogisticRegression(multi_class=\"multinomial\", solver=\"lbfgs\", penalty='l2', C=0.5, max_iter=300).fit(X_train, y_train)\n",
    "\n",
    "decision_tree =  DecisionTreeClassifier(max_depth=20, min_samples_split=5).fit(X_train, y_train)\n",
    "\n",
    "random_forest = RandomForestClassifier().fit(X_train, y_train)\n",
    "\n",
    "naive_bayes = MultinomialNB().fit(X_train, y_train)\n"
   ]
  },
  {
   "cell_type": "code",
   "execution_count": 50,
   "metadata": {
    "id": "N2OznsObJrGP"
   },
   "outputs": [
    {
     "name": "stdout",
     "output_type": "stream",
     "text": [
      "Accuracy on Test data for LogisticRegression is 0.9537366548042705\n",
      "Accuracy on Test data for Decision Tree is 0.7689205219454329\n",
      "Accuracy on Test data for RandomForest is 0.8604982206405694\n",
      "Accuracy on Test data for Naive Bayes is 0.7701067615658364\n"
     ]
    }
   ],
   "source": [
    "print(f'Accuracy on Test data for LogisticRegression is {logistic_regression.score(X_test, y_test)}')\n",
    "print(f'Accuracy on Test data for Decision Tree is {decision_tree.score(X_test, y_test)}')\n",
    "print(f'Accuracy on Test data for RandomForest is {random_forest.score(X_test, y_test)}')\n",
    "print(f'Accuracy on Test data for Naive Bayes is {naive_bayes.score(X_test, y_test)}')"
   ]
  },
  {
   "cell_type": "markdown",
   "metadata": {},
   "source": [
    "Logistic Regression is giving best accuracy value. Hence, we will consider Logistic Regression as the final model."
   ]
  },
  {
   "cell_type": "markdown",
   "metadata": {},
   "source": [
    "### Apply the best model to predict a  custom text to see its performance:"
   ]
  },
  {
   "cell_type": "code",
   "execution_count": 51,
   "metadata": {},
   "outputs": [],
   "source": [
    "# Custom data\n",
    "custom_corpus = [\"I purchased a Credit Card\", \"Loan rejection letter reached me.\", \"Fraud transaction happened.\",\n",
    "                 \"Delay in check processing\", \"How to trade\"]\n",
    "topics = logistic_regression.predict(counts.transform(custom_corpus))"
   ]
  },
  {
   "cell_type": "code",
   "execution_count": 52,
   "metadata": {},
   "outputs": [],
   "source": [
    "Topic_names = {0: \"Bank Account services\",\n",
    "                           1: \"Credit card or prepaid card\",\n",
    "                           2: \"Mortgage/Loan\",\n",
    "                           3: \"Theft/Dispute Reporting\",\n",
    "                           4: \"Others\"}"
   ]
  },
  {
   "cell_type": "code",
   "execution_count": 53,
   "metadata": {},
   "outputs": [
    {
     "name": "stdout",
     "output_type": "stream",
     "text": [
      "('I purchased a Credit Card', 'Credit card or prepaid card')\n",
      "('Loan rejection letter reached me.', 'Mortgage/Loan')\n",
      "('Fraud transaction happened.', 'Theft/Dispute Reporting')\n",
      "('Delay in check processing', 'Bank Account services')\n",
      "('How to trade', 'Theft/Dispute Reporting')\n"
     ]
    }
   ],
   "source": [
    "# predictions and results\n",
    "topic_list = []\n",
    "for topic in topics:\n",
    "    topic_list.append(Topic_names.get(topic))\n",
    "\n",
    "custom_topic = zip(custom_corpus, topic_list)\n",
    "for out in list(custom_topic):\n",
    "    print(out)"
   ]
  },
  {
   "cell_type": "markdown",
   "metadata": {},
   "source": [
    "Logistic Regression came out as the best model for this task. It performed reasonably well on the custom corpus as well."
   ]
  },
  {
   "cell_type": "code",
   "execution_count": null,
   "metadata": {},
   "outputs": [],
   "source": []
  }
 ],
 "metadata": {
  "colab": {
   "collapsed_sections": [
    "T9jD_6SeJrF3",
    "5DfCSbbmJrF4",
    "yYzD85nTJrGA",
    "piyLxzj6v07j",
    "280Vbqk-7a8M"
   ],
   "name": "Automatic_Ticket_Classification_Assignment.ipynb",
   "provenance": []
  },
  "kernelspec": {
   "display_name": "Python 3",
   "language": "python",
   "name": "python3"
  },
  "language_info": {
   "codemirror_mode": {
    "name": "ipython",
    "version": 3
   },
   "file_extension": ".py",
   "mimetype": "text/x-python",
   "name": "python",
   "nbconvert_exporter": "python",
   "pygments_lexer": "ipython3",
   "version": "3.9.5"
  }
 },
 "nbformat": 4,
 "nbformat_minor": 1
}
